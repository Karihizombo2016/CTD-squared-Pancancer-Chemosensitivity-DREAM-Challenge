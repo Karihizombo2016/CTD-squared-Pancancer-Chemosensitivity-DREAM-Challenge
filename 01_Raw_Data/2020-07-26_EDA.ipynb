{
 "cells": [
  {
   "cell_type": "code",
   "execution_count": 1,
   "metadata": {
    "collapsed": true
   },
   "outputs": [],
   "source": [
    "import numpy as np\n",
    "import pandas as pd\n",
    "import seaborn as sns; sns.set(context='talk');\n",
    "import matplotlib.pyplot as plt\n",
    "plt.rcParams[\"patch.force_edgecolor\"] = True\n",
    "%matplotlib inline"
   ]
  },
  {
   "cell_type": "markdown",
   "metadata": {},
   "source": [
    "https://www.synapse.org/#!Synapse:syn21763589/wiki/602309"
   ]
  },
  {
   "cell_type": "code",
   "execution_count": 2,
   "metadata": {},
   "outputs": [
    {
     "name": "stdout",
     "output_type": "stream",
     "text": [
      "2020-07-26_EDA.ipynb                \u001b[31mdrug_activity_to_inchi.txt\u001b[m\u001b[m*\r\n",
      "\u001b[31mdata_achilles_shRNA_DREAMv2.csv\u001b[m\u001b[m*    \u001b[31mdrug_activity_to_inchikey.txt\u001b[m\u001b[m*\r\n",
      "\u001b[31mdata_ccle_RNAseq_DREAMv2_FIXED.csv\u001b[m\u001b[m* \u001b[31mrnaseq_concealed.zip\u001b[m\u001b[m*\r\n",
      "\u001b[31mdrug_activity_challenge_rnaseq.zip\u001b[m\u001b[m*\r\n"
     ]
    }
   ],
   "source": [
    "ls"
   ]
  },
  {
   "cell_type": "markdown",
   "metadata": {},
   "source": [
    "## Achilles"
   ]
  },
  {
   "cell_type": "code",
   "execution_count": 2,
   "metadata": {},
   "outputs": [
    {
     "data": {
      "text/html": [
       "<div>\n",
       "<style scoped>\n",
       "    .dataframe tbody tr th:only-of-type {\n",
       "        vertical-align: middle;\n",
       "    }\n",
       "\n",
       "    .dataframe tbody tr th {\n",
       "        vertical-align: top;\n",
       "    }\n",
       "\n",
       "    .dataframe thead th {\n",
       "        text-align: right;\n",
       "    }\n",
       "</style>\n",
       "<table border=\"1\" class=\"dataframe\">\n",
       "  <thead>\n",
       "    <tr style=\"text-align: right;\">\n",
       "      <th></th>\n",
       "      <th>Unnamed: 0</th>\n",
       "      <th>A101D</th>\n",
       "      <th>A172</th>\n",
       "      <th>A204</th>\n",
       "      <th>A2058</th>\n",
       "      <th>A253</th>\n",
       "      <th>A2780</th>\n",
       "      <th>A375</th>\n",
       "      <th>A3KAW</th>\n",
       "      <th>A498</th>\n",
       "      <th>...</th>\n",
       "      <th>WM2664</th>\n",
       "      <th>WM793</th>\n",
       "      <th>WM88</th>\n",
       "      <th>WM983B</th>\n",
       "      <th>WSUDLCL2</th>\n",
       "      <th>YD38</th>\n",
       "      <th>YD8</th>\n",
       "      <th>YKG1</th>\n",
       "      <th>ZR751</th>\n",
       "      <th>ZR7530</th>\n",
       "    </tr>\n",
       "  </thead>\n",
       "  <tbody>\n",
       "    <tr>\n",
       "      <th>0</th>\n",
       "      <td>A1BG</td>\n",
       "      <td>NaN</td>\n",
       "      <td>0.012675</td>\n",
       "      <td>0.201401</td>\n",
       "      <td>-0.146676</td>\n",
       "      <td>NaN</td>\n",
       "      <td>NaN</td>\n",
       "      <td>-0.182732</td>\n",
       "      <td>-0.080464</td>\n",
       "      <td>NaN</td>\n",
       "      <td>...</td>\n",
       "      <td>-0.326934</td>\n",
       "      <td>0.070636</td>\n",
       "      <td>-0.088267</td>\n",
       "      <td>0.002171</td>\n",
       "      <td>NaN</td>\n",
       "      <td>0.120294</td>\n",
       "      <td>0.012540</td>\n",
       "      <td>0.111530</td>\n",
       "      <td>-0.079313</td>\n",
       "      <td>-0.141559</td>\n",
       "    </tr>\n",
       "    <tr>\n",
       "      <th>1</th>\n",
       "      <td>NAT2</td>\n",
       "      <td>NaN</td>\n",
       "      <td>-0.058938</td>\n",
       "      <td>-0.357361</td>\n",
       "      <td>-0.003113</td>\n",
       "      <td>NaN</td>\n",
       "      <td>NaN</td>\n",
       "      <td>-0.036114</td>\n",
       "      <td>-0.050468</td>\n",
       "      <td>NaN</td>\n",
       "      <td>...</td>\n",
       "      <td>-0.107795</td>\n",
       "      <td>-0.126943</td>\n",
       "      <td>-0.003747</td>\n",
       "      <td>-0.321445</td>\n",
       "      <td>NaN</td>\n",
       "      <td>-0.003256</td>\n",
       "      <td>-0.220472</td>\n",
       "      <td>0.073460</td>\n",
       "      <td>-0.130921</td>\n",
       "      <td>0.127358</td>\n",
       "    </tr>\n",
       "    <tr>\n",
       "      <th>2</th>\n",
       "      <td>ADA</td>\n",
       "      <td>NaN</td>\n",
       "      <td>0.028173</td>\n",
       "      <td>0.158644</td>\n",
       "      <td>0.052616</td>\n",
       "      <td>NaN</td>\n",
       "      <td>NaN</td>\n",
       "      <td>0.081343</td>\n",
       "      <td>-0.047190</td>\n",
       "      <td>NaN</td>\n",
       "      <td>...</td>\n",
       "      <td>0.029538</td>\n",
       "      <td>0.346389</td>\n",
       "      <td>-0.014085</td>\n",
       "      <td>0.039679</td>\n",
       "      <td>NaN</td>\n",
       "      <td>0.076521</td>\n",
       "      <td>0.106995</td>\n",
       "      <td>0.227977</td>\n",
       "      <td>-0.134479</td>\n",
       "      <td>0.083506</td>\n",
       "    </tr>\n",
       "    <tr>\n",
       "      <th>3</th>\n",
       "      <td>CDH2</td>\n",
       "      <td>0.095038</td>\n",
       "      <td>-0.285766</td>\n",
       "      <td>0.498370</td>\n",
       "      <td>-0.044655</td>\n",
       "      <td>-0.02795</td>\n",
       "      <td>0.170724</td>\n",
       "      <td>-0.165399</td>\n",
       "      <td>0.317836</td>\n",
       "      <td>-0.130849</td>\n",
       "      <td>...</td>\n",
       "      <td>-0.166268</td>\n",
       "      <td>0.002938</td>\n",
       "      <td>-0.073435</td>\n",
       "      <td>-0.140041</td>\n",
       "      <td>-0.154436</td>\n",
       "      <td>-0.040308</td>\n",
       "      <td>-0.078707</td>\n",
       "      <td>0.000769</td>\n",
       "      <td>0.047022</td>\n",
       "      <td>-0.097644</td>\n",
       "    </tr>\n",
       "    <tr>\n",
       "      <th>4</th>\n",
       "      <td>AKT3</td>\n",
       "      <td>0.084754</td>\n",
       "      <td>-0.007406</td>\n",
       "      <td>-0.256909</td>\n",
       "      <td>-0.003486</td>\n",
       "      <td>-0.03453</td>\n",
       "      <td>0.224610</td>\n",
       "      <td>0.004111</td>\n",
       "      <td>0.466874</td>\n",
       "      <td>0.143616</td>\n",
       "      <td>...</td>\n",
       "      <td>-0.121801</td>\n",
       "      <td>-0.007509</td>\n",
       "      <td>0.028714</td>\n",
       "      <td>-0.054628</td>\n",
       "      <td>0.450581</td>\n",
       "      <td>0.002932</td>\n",
       "      <td>0.129679</td>\n",
       "      <td>-0.072564</td>\n",
       "      <td>0.123615</td>\n",
       "      <td>0.046846</td>\n",
       "    </tr>\n",
       "  </tbody>\n",
       "</table>\n",
       "<p>5 rows × 516 columns</p>\n",
       "</div>"
      ],
      "text/plain": [
       "  Unnamed: 0     A101D      A172      A204     A2058     A253     A2780  \\\n",
       "0       A1BG       NaN  0.012675  0.201401 -0.146676      NaN       NaN   \n",
       "1       NAT2       NaN -0.058938 -0.357361 -0.003113      NaN       NaN   \n",
       "2        ADA       NaN  0.028173  0.158644  0.052616      NaN       NaN   \n",
       "3       CDH2  0.095038 -0.285766  0.498370 -0.044655 -0.02795  0.170724   \n",
       "4       AKT3  0.084754 -0.007406 -0.256909 -0.003486 -0.03453  0.224610   \n",
       "\n",
       "       A375     A3KAW      A498  ...    WM2664     WM793      WM88    WM983B  \\\n",
       "0 -0.182732 -0.080464       NaN  ... -0.326934  0.070636 -0.088267  0.002171   \n",
       "1 -0.036114 -0.050468       NaN  ... -0.107795 -0.126943 -0.003747 -0.321445   \n",
       "2  0.081343 -0.047190       NaN  ...  0.029538  0.346389 -0.014085  0.039679   \n",
       "3 -0.165399  0.317836 -0.130849  ... -0.166268  0.002938 -0.073435 -0.140041   \n",
       "4  0.004111  0.466874  0.143616  ... -0.121801 -0.007509  0.028714 -0.054628   \n",
       "\n",
       "   WSUDLCL2      YD38       YD8      YKG1     ZR751    ZR7530  \n",
       "0       NaN  0.120294  0.012540  0.111530 -0.079313 -0.141559  \n",
       "1       NaN -0.003256 -0.220472  0.073460 -0.130921  0.127358  \n",
       "2       NaN  0.076521  0.106995  0.227977 -0.134479  0.083506  \n",
       "3 -0.154436 -0.040308 -0.078707  0.000769  0.047022 -0.097644  \n",
       "4  0.450581  0.002932  0.129679 -0.072564  0.123615  0.046846  \n",
       "\n",
       "[5 rows x 516 columns]"
      ]
     },
     "execution_count": 2,
     "metadata": {},
     "output_type": "execute_result"
    }
   ],
   "source": [
    "achilles = pd.read_csv(\"data_achilles_shRNA_DREAMv2.csv\")\n",
    "achilles.head()"
   ]
  },
  {
   "cell_type": "code",
   "execution_count": 4,
   "metadata": {},
   "outputs": [
    {
     "data": {
      "text/plain": [
       "(17309, 516)"
      ]
     },
     "execution_count": 4,
     "metadata": {},
     "output_type": "execute_result"
    }
   ],
   "source": [
    "achilles.shape"
   ]
  },
  {
   "cell_type": "markdown",
   "metadata": {},
   "source": [
    "The drug perturbational RNAseq profiles of 11 cell lines for 30 chosen compounds will be provided to challenge participants, without revealing the identity of the drugs.\n",
    "\n",
    "In addition, RNAseq and mRNA-dependency data will be provided for 515 cell-lines from the Cancer Cell-Line Encyclopedia (CCLE) and Achilles databases respectively. This challenge asks participants to combine these three datasets to predict drug-sensitivity for the 30 anonymized drugs across 515 cell-lines given the fact:\n",
    "PANACEA drug-perturbed RNAseq\n",
    "This dataset links each drug to differential-mRNA (drug -> mRNA-change). It is in the form of PLATE-Seq expression matrices for 11 cell lines and 30 compounds. Each matrix (csv) is formatted as follows:\n",
    "the first column, hgnc_symbol, contains the HUGO gene identifier for each row.\n",
    "the remaining columns follow this format:\n",
    "<drug_id>\n",
    "<dose in uM>\n",
    "<time point in hours>\n",
    "<cell line name>\n",
    "<replicate>"
   ]
  },
  {
   "cell_type": "code",
   "execution_count": 3,
   "metadata": {},
   "outputs": [
    {
     "data": {
      "text/plain": [
       "Index(['Unnamed: 0', 'A101D', 'A172', 'A204', 'A2058', 'A253', 'A2780', 'A375',\n",
       "       'A3KAW', 'A498',\n",
       "       ...\n",
       "       'WM2664', 'WM793', 'WM88', 'WM983B', 'WSUDLCL2', 'YD38', 'YD8', 'YKG1',\n",
       "       'ZR751', 'ZR7530'],\n",
       "      dtype='object', length=516)"
      ]
     },
     "execution_count": 3,
     "metadata": {},
     "output_type": "execute_result"
    }
   ],
   "source": [
    "achilles.columns"
   ]
  },
  {
   "cell_type": "code",
   "execution_count": 6,
   "metadata": {},
   "outputs": [
    {
     "data": {
      "text/plain": [
       "Unnamed: 0    False\n",
       "A101D          True\n",
       "A172           True\n",
       "A204           True\n",
       "A2058          True\n",
       "              ...  \n",
       "YD38           True\n",
       "YD8            True\n",
       "YKG1           True\n",
       "ZR751          True\n",
       "ZR7530         True\n",
       "Length: 516, dtype: bool"
      ]
     },
     "execution_count": 6,
     "metadata": {},
     "output_type": "execute_result"
    }
   ],
   "source": [
    "achilles.isnull().any()"
   ]
  },
  {
   "cell_type": "markdown",
   "metadata": {},
   "source": [
    "### RNA-Seq"
   ]
  },
  {
   "cell_type": "code",
   "execution_count": 7,
   "metadata": {},
   "outputs": [
    {
     "name": "stdout",
     "output_type": "stream",
     "text": [
      "2020-07-26_EDA.ipynb                \u001b[31mdrug_activity_to_inchikey.txt\u001b[m\u001b[m*\r\n",
      "\u001b[31mdata_achilles_shRNA_DREAMv2.csv\u001b[m\u001b[m*    \u001b[1m\u001b[36mrnaseq\u001b[m\u001b[m/\r\n",
      "\u001b[31mdata_ccle_RNAseq_DREAMv2_FIXED.csv\u001b[m\u001b[m* \u001b[1m\u001b[36mrnaseq_concealed\u001b[m\u001b[m/\r\n",
      "\u001b[31mdrug_activity_challenge_rnaseq.zip\u001b[m\u001b[m* \u001b[31mrnaseq_concealed.zip\u001b[m\u001b[m*\r\n",
      "\u001b[31mdrug_activity_to_inchi.txt\u001b[m\u001b[m*\r\n"
     ]
    }
   ],
   "source": [
    "ls"
   ]
  },
  {
   "cell_type": "code",
   "execution_count": null,
   "metadata": {
    "collapsed": true
   },
   "outputs": [],
   "source": []
  }
 ],
 "metadata": {
  "kernelspec": {
   "display_name": "Python 3",
   "language": "python",
   "name": "python3"
  },
  "language_info": {
   "codemirror_mode": {
    "name": "ipython",
    "version": 3
   },
   "file_extension": ".py",
   "mimetype": "text/x-python",
   "name": "python",
   "nbconvert_exporter": "python",
   "pygments_lexer": "ipython3",
   "version": "3.6.8"
  }
 },
 "nbformat": 4,
 "nbformat_minor": 2
}
