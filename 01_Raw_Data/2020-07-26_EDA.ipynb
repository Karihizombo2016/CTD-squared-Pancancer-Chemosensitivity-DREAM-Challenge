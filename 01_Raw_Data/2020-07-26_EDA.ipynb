{
 "cells": [
  {
   "cell_type": "code",
   "execution_count": 1,
   "metadata": {
    "collapsed": true
   },
   "outputs": [],
   "source": [
    "import numpy as np\n",
    "import pandas as pd\n",
    "import seaborn as sns; sns.set(context='notebook');\n",
    "import matplotlib.pyplot as plt\n",
    "plt.rcParams[\"patch.force_edgecolor\"] = True\n",
    "%matplotlib inline"
   ]
  },
  {
   "cell_type": "code",
   "execution_count": null,
   "metadata": {
    "collapsed": true
   },
   "outputs": [],
   "source": []
  },
  {
   "cell_type": "markdown",
   "metadata": {},
   "source": [
    "https://www.synapse.org/#!Synapse:syn21763589/wiki/602309"
   ]
  },
  {
   "cell_type": "code",
   "execution_count": 2,
   "metadata": {},
   "outputs": [
    {
     "name": "stdout",
     "output_type": "stream",
     "text": [
      "2020-07-26_EDA.ipynb                \u001b[31mdrug_activity_to_inchikey.txt\u001b[m\u001b[m*\r\n",
      "\u001b[31mdata_achilles_shRNA_DREAMv2.csv\u001b[m\u001b[m*    \u001b[1m\u001b[36mrnaseq\u001b[m\u001b[m/\r\n",
      "\u001b[31mdata_ccle_RNAseq_DREAMv2_FIXED.csv\u001b[m\u001b[m* \u001b[1m\u001b[36mrnaseq_concealed\u001b[m\u001b[m/\r\n",
      "\u001b[31mdrug_activity_challenge_rnaseq.zip\u001b[m\u001b[m* \u001b[31mrnaseq_concealed.zip\u001b[m\u001b[m*\r\n",
      "\u001b[31mdrug_activity_to_inchi.txt\u001b[m\u001b[m*\r\n"
     ]
    }
   ],
   "source": [
    "ls"
   ]
  },
  {
   "cell_type": "markdown",
   "metadata": {},
   "source": [
    "## Achilles"
   ]
  },
  {
   "cell_type": "code",
   "execution_count": 2,
   "metadata": {},
   "outputs": [
    {
     "data": {
      "text/html": [
       "<div>\n",
       "<style scoped>\n",
       "    .dataframe tbody tr th:only-of-type {\n",
       "        vertical-align: middle;\n",
       "    }\n",
       "\n",
       "    .dataframe tbody tr th {\n",
       "        vertical-align: top;\n",
       "    }\n",
       "\n",
       "    .dataframe thead th {\n",
       "        text-align: right;\n",
       "    }\n",
       "</style>\n",
       "<table border=\"1\" class=\"dataframe\">\n",
       "  <thead>\n",
       "    <tr style=\"text-align: right;\">\n",
       "      <th></th>\n",
       "      <th>Unnamed: 0</th>\n",
       "      <th>A101D</th>\n",
       "      <th>A172</th>\n",
       "      <th>A204</th>\n",
       "      <th>A2058</th>\n",
       "      <th>A253</th>\n",
       "      <th>A2780</th>\n",
       "      <th>A375</th>\n",
       "      <th>A3KAW</th>\n",
       "      <th>A498</th>\n",
       "      <th>...</th>\n",
       "      <th>WM2664</th>\n",
       "      <th>WM793</th>\n",
       "      <th>WM88</th>\n",
       "      <th>WM983B</th>\n",
       "      <th>WSUDLCL2</th>\n",
       "      <th>YD38</th>\n",
       "      <th>YD8</th>\n",
       "      <th>YKG1</th>\n",
       "      <th>ZR751</th>\n",
       "      <th>ZR7530</th>\n",
       "    </tr>\n",
       "  </thead>\n",
       "  <tbody>\n",
       "    <tr>\n",
       "      <th>0</th>\n",
       "      <td>A1BG</td>\n",
       "      <td>NaN</td>\n",
       "      <td>0.012675</td>\n",
       "      <td>0.201401</td>\n",
       "      <td>-0.146676</td>\n",
       "      <td>NaN</td>\n",
       "      <td>NaN</td>\n",
       "      <td>-0.182732</td>\n",
       "      <td>-0.080464</td>\n",
       "      <td>NaN</td>\n",
       "      <td>...</td>\n",
       "      <td>-0.326934</td>\n",
       "      <td>0.070636</td>\n",
       "      <td>-0.088267</td>\n",
       "      <td>0.002171</td>\n",
       "      <td>NaN</td>\n",
       "      <td>0.120294</td>\n",
       "      <td>0.012540</td>\n",
       "      <td>0.111530</td>\n",
       "      <td>-0.079313</td>\n",
       "      <td>-0.141559</td>\n",
       "    </tr>\n",
       "    <tr>\n",
       "      <th>1</th>\n",
       "      <td>NAT2</td>\n",
       "      <td>NaN</td>\n",
       "      <td>-0.058938</td>\n",
       "      <td>-0.357361</td>\n",
       "      <td>-0.003113</td>\n",
       "      <td>NaN</td>\n",
       "      <td>NaN</td>\n",
       "      <td>-0.036114</td>\n",
       "      <td>-0.050468</td>\n",
       "      <td>NaN</td>\n",
       "      <td>...</td>\n",
       "      <td>-0.107795</td>\n",
       "      <td>-0.126943</td>\n",
       "      <td>-0.003747</td>\n",
       "      <td>-0.321445</td>\n",
       "      <td>NaN</td>\n",
       "      <td>-0.003256</td>\n",
       "      <td>-0.220472</td>\n",
       "      <td>0.073460</td>\n",
       "      <td>-0.130921</td>\n",
       "      <td>0.127358</td>\n",
       "    </tr>\n",
       "    <tr>\n",
       "      <th>2</th>\n",
       "      <td>ADA</td>\n",
       "      <td>NaN</td>\n",
       "      <td>0.028173</td>\n",
       "      <td>0.158644</td>\n",
       "      <td>0.052616</td>\n",
       "      <td>NaN</td>\n",
       "      <td>NaN</td>\n",
       "      <td>0.081343</td>\n",
       "      <td>-0.047190</td>\n",
       "      <td>NaN</td>\n",
       "      <td>...</td>\n",
       "      <td>0.029538</td>\n",
       "      <td>0.346389</td>\n",
       "      <td>-0.014085</td>\n",
       "      <td>0.039679</td>\n",
       "      <td>NaN</td>\n",
       "      <td>0.076521</td>\n",
       "      <td>0.106995</td>\n",
       "      <td>0.227977</td>\n",
       "      <td>-0.134479</td>\n",
       "      <td>0.083506</td>\n",
       "    </tr>\n",
       "    <tr>\n",
       "      <th>3</th>\n",
       "      <td>CDH2</td>\n",
       "      <td>0.095038</td>\n",
       "      <td>-0.285766</td>\n",
       "      <td>0.498370</td>\n",
       "      <td>-0.044655</td>\n",
       "      <td>-0.02795</td>\n",
       "      <td>0.170724</td>\n",
       "      <td>-0.165399</td>\n",
       "      <td>0.317836</td>\n",
       "      <td>-0.130849</td>\n",
       "      <td>...</td>\n",
       "      <td>-0.166268</td>\n",
       "      <td>0.002938</td>\n",
       "      <td>-0.073435</td>\n",
       "      <td>-0.140041</td>\n",
       "      <td>-0.154436</td>\n",
       "      <td>-0.040308</td>\n",
       "      <td>-0.078707</td>\n",
       "      <td>0.000769</td>\n",
       "      <td>0.047022</td>\n",
       "      <td>-0.097644</td>\n",
       "    </tr>\n",
       "    <tr>\n",
       "      <th>4</th>\n",
       "      <td>AKT3</td>\n",
       "      <td>0.084754</td>\n",
       "      <td>-0.007406</td>\n",
       "      <td>-0.256909</td>\n",
       "      <td>-0.003486</td>\n",
       "      <td>-0.03453</td>\n",
       "      <td>0.224610</td>\n",
       "      <td>0.004111</td>\n",
       "      <td>0.466874</td>\n",
       "      <td>0.143616</td>\n",
       "      <td>...</td>\n",
       "      <td>-0.121801</td>\n",
       "      <td>-0.007509</td>\n",
       "      <td>0.028714</td>\n",
       "      <td>-0.054628</td>\n",
       "      <td>0.450581</td>\n",
       "      <td>0.002932</td>\n",
       "      <td>0.129679</td>\n",
       "      <td>-0.072564</td>\n",
       "      <td>0.123615</td>\n",
       "      <td>0.046846</td>\n",
       "    </tr>\n",
       "  </tbody>\n",
       "</table>\n",
       "<p>5 rows × 516 columns</p>\n",
       "</div>"
      ],
      "text/plain": [
       "  Unnamed: 0     A101D      A172      A204     A2058     A253     A2780  \\\n",
       "0       A1BG       NaN  0.012675  0.201401 -0.146676      NaN       NaN   \n",
       "1       NAT2       NaN -0.058938 -0.357361 -0.003113      NaN       NaN   \n",
       "2        ADA       NaN  0.028173  0.158644  0.052616      NaN       NaN   \n",
       "3       CDH2  0.095038 -0.285766  0.498370 -0.044655 -0.02795  0.170724   \n",
       "4       AKT3  0.084754 -0.007406 -0.256909 -0.003486 -0.03453  0.224610   \n",
       "\n",
       "       A375     A3KAW      A498  ...    WM2664     WM793      WM88    WM983B  \\\n",
       "0 -0.182732 -0.080464       NaN  ... -0.326934  0.070636 -0.088267  0.002171   \n",
       "1 -0.036114 -0.050468       NaN  ... -0.107795 -0.126943 -0.003747 -0.321445   \n",
       "2  0.081343 -0.047190       NaN  ...  0.029538  0.346389 -0.014085  0.039679   \n",
       "3 -0.165399  0.317836 -0.130849  ... -0.166268  0.002938 -0.073435 -0.140041   \n",
       "4  0.004111  0.466874  0.143616  ... -0.121801 -0.007509  0.028714 -0.054628   \n",
       "\n",
       "   WSUDLCL2      YD38       YD8      YKG1     ZR751    ZR7530  \n",
       "0       NaN  0.120294  0.012540  0.111530 -0.079313 -0.141559  \n",
       "1       NaN -0.003256 -0.220472  0.073460 -0.130921  0.127358  \n",
       "2       NaN  0.076521  0.106995  0.227977 -0.134479  0.083506  \n",
       "3 -0.154436 -0.040308 -0.078707  0.000769  0.047022 -0.097644  \n",
       "4  0.450581  0.002932  0.129679 -0.072564  0.123615  0.046846  \n",
       "\n",
       "[5 rows x 516 columns]"
      ]
     },
     "execution_count": 2,
     "metadata": {},
     "output_type": "execute_result"
    }
   ],
   "source": [
    "achilles = pd.read_csv(\"data_achilles_shRNA_DREAMv2.csv\")\n",
    "achilles.head()"
   ]
  },
  {
   "cell_type": "code",
   "execution_count": 4,
   "metadata": {},
   "outputs": [
    {
     "data": {
      "text/plain": [
       "(17309, 516)"
      ]
     },
     "execution_count": 4,
     "metadata": {},
     "output_type": "execute_result"
    }
   ],
   "source": [
    "achilles.shape"
   ]
  },
  {
   "cell_type": "markdown",
   "metadata": {},
   "source": [
    "The drug perturbational RNAseq profiles of 11 cell lines for 30 chosen compounds will be provided to challenge participants, without revealing the identity of the drugs.\n",
    "\n",
    "In addition, RNAseq and mRNA-dependency data will be provided for 515 cell-lines from the Cancer Cell-Line Encyclopedia (CCLE) and Achilles databases respectively. This challenge asks participants to combine these three datasets to predict drug-sensitivity for the 30 anonymized drugs across 515 cell-lines given the fact:\n",
    "PANACEA drug-perturbed RNAseq\n",
    "This dataset links each drug to differential-mRNA (drug -> mRNA-change). It is in the form of PLATE-Seq expression matrices for 11 cell lines and 30 compounds. Each matrix (csv) is formatted as follows:\n",
    "the first column, hgnc_symbol, contains the HUGO gene identifier for each row.\n",
    "the remaining columns follow this format:\n",
    "<drug_id>\n",
    "<dose in uM>\n",
    "<time point in hours>\n",
    "<cell line name>\n",
    "<replicate>"
   ]
  },
  {
   "cell_type": "code",
   "execution_count": 3,
   "metadata": {},
   "outputs": [
    {
     "data": {
      "text/plain": [
       "Index(['Unnamed: 0', 'A101D', 'A172', 'A204', 'A2058', 'A253', 'A2780', 'A375',\n",
       "       'A3KAW', 'A498',\n",
       "       ...\n",
       "       'WM2664', 'WM793', 'WM88', 'WM983B', 'WSUDLCL2', 'YD38', 'YD8', 'YKG1',\n",
       "       'ZR751', 'ZR7530'],\n",
       "      dtype='object', length=516)"
      ]
     },
     "execution_count": 3,
     "metadata": {},
     "output_type": "execute_result"
    }
   ],
   "source": [
    "achilles.columns"
   ]
  },
  {
   "cell_type": "code",
   "execution_count": 6,
   "metadata": {},
   "outputs": [
    {
     "data": {
      "text/plain": [
       "Unnamed: 0    False\n",
       "A101D          True\n",
       "A172           True\n",
       "A204           True\n",
       "A2058          True\n",
       "              ...  \n",
       "YD38           True\n",
       "YD8            True\n",
       "YKG1           True\n",
       "ZR751          True\n",
       "ZR7530         True\n",
       "Length: 516, dtype: bool"
      ]
     },
     "execution_count": 6,
     "metadata": {},
     "output_type": "execute_result"
    }
   ],
   "source": [
    "achilles.isnull().any()"
   ]
  },
  {
   "cell_type": "markdown",
   "metadata": {},
   "source": [
    "### RNA-Seq"
   ]
  },
  {
   "cell_type": "markdown",
   "metadata": {},
   "source": [
    "Q:\n",
    "- What the distribution of normalised counts between untreated and DMSO?\n",
    "- What are the distribution of normalised counts for each gene across cell line, drug,\n",
    " dosage, time point?\n",
    "- Are we using log2(A1/A2) to compare different conditions?"
   ]
  },
  {
   "cell_type": "code",
   "execution_count": 3,
   "metadata": {},
   "outputs": [
    {
     "name": "stdout",
     "output_type": "stream",
     "text": [
      "2020-07-26_EDA.ipynb                \u001b[31mdrug_activity_to_inchikey.txt\u001b[m\u001b[m*\r\n",
      "\u001b[31mdata_achilles_shRNA_DREAMv2.csv\u001b[m\u001b[m*    \u001b[1m\u001b[36mrnaseq\u001b[m\u001b[m/\r\n",
      "\u001b[31mdata_ccle_RNAseq_DREAMv2_FIXED.csv\u001b[m\u001b[m* \u001b[1m\u001b[36mrnaseq_concealed\u001b[m\u001b[m/\r\n",
      "\u001b[31mdrug_activity_challenge_rnaseq.zip\u001b[m\u001b[m* \u001b[31mrnaseq_concealed.zip\u001b[m\u001b[m*\r\n",
      "\u001b[31mdrug_activity_to_inchi.txt\u001b[m\u001b[m*\r\n"
     ]
    }
   ],
   "source": [
    "ls"
   ]
  },
  {
   "cell_type": "code",
   "execution_count": 3,
   "metadata": {},
   "outputs": [
    {
     "name": "stdout",
     "output_type": "stream",
     "text": [
      "\u001b[31mASPC1-RNAseq-Perturbations.csv\u001b[m\u001b[m*   \u001b[31mHSTS-RNAseq-Perturbations.csv\u001b[m\u001b[m*\r\n",
      "\u001b[31mDU145-RNAseq-Perturbations.csv\u001b[m\u001b[m*   \u001b[31mKRJ1-RNAseq-Perturbations.csv\u001b[m\u001b[m*\r\n",
      "\u001b[31mEFO21-RNAseq-Perturbations.csv\u001b[m\u001b[m*   \u001b[31mLNCAP-RNAseq-Perturbations.csv\u001b[m\u001b[m*\r\n",
      "\u001b[31mH1793-RNAseq-Perturbations.csv\u001b[m\u001b[m*   \u001b[31mPANC1-RNAseq-Perturbations.csv\u001b[m\u001b[m*\r\n",
      "\u001b[31mHCC1143-RNAseq-Perturbations.csv\u001b[m\u001b[m* \u001b[31mU87-RNAseq-Perturbations.csv\u001b[m\u001b[m*\r\n",
      "\u001b[31mHF2597-RNAseq-Perturbations.csv\u001b[m\u001b[m*\r\n"
     ]
    }
   ],
   "source": [
    "ls rnaseq/"
   ]
  },
  {
   "cell_type": "code",
   "execution_count": 2,
   "metadata": {},
   "outputs": [
    {
     "data": {
      "text/html": [
       "<div>\n",
       "<style scoped>\n",
       "    .dataframe tbody tr th:only-of-type {\n",
       "        vertical-align: middle;\n",
       "    }\n",
       "\n",
       "    .dataframe tbody tr th {\n",
       "        vertical-align: top;\n",
       "    }\n",
       "\n",
       "    .dataframe thead th {\n",
       "        text-align: right;\n",
       "    }\n",
       "</style>\n",
       "<table border=\"1\" class=\"dataframe\">\n",
       "  <thead>\n",
       "    <tr style=\"text-align: right;\">\n",
       "      <th></th>\n",
       "      <th>Unnamed: 0</th>\n",
       "      <th>DMSO_0_24_ASPC1</th>\n",
       "      <th>DMSO_0_24_ASPC1.1</th>\n",
       "      <th>UNTREATED_0_24_ASPC1</th>\n",
       "      <th>DMSO_0_24_ASPC1.2</th>\n",
       "      <th>UNTREATED_0_24_ASPC1.1</th>\n",
       "      <th>DMSO_0_24_ASPC1.3</th>\n",
       "      <th>UNTREATED_0_24_ASPC1.2</th>\n",
       "      <th>DMSO_0_24_ASPC1.4</th>\n",
       "      <th>UNTREATED_0_24_ASPC1.3</th>\n",
       "      <th>...</th>\n",
       "      <th>UNTREATED_0_24_ASPC1.54</th>\n",
       "      <th>DMSO_0_24_ASPC1.56</th>\n",
       "      <th>UNTREATED_0_24_ASPC1.55</th>\n",
       "      <th>DMSO_0_24_ASPC1.57</th>\n",
       "      <th>UNTREATED_0_24_ASPC1.56</th>\n",
       "      <th>DMSO_0_24_ASPC1.58</th>\n",
       "      <th>UNTREATED_0_24_ASPC1.57</th>\n",
       "      <th>DMSO_0_24_ASPC1.59</th>\n",
       "      <th>UNTREATED_0_24_ASPC1.58</th>\n",
       "      <th>UNTREATED_0_24_ASPC1.59</th>\n",
       "    </tr>\n",
       "  </thead>\n",
       "  <tbody>\n",
       "    <tr>\n",
       "      <th>0</th>\n",
       "      <td>DDX11L1</td>\n",
       "      <td>11.785438</td>\n",
       "      <td>11.797613</td>\n",
       "      <td>11.771380</td>\n",
       "      <td>11.793581</td>\n",
       "      <td>11.781772</td>\n",
       "      <td>11.783283</td>\n",
       "      <td>11.789473</td>\n",
       "      <td>11.782482</td>\n",
       "      <td>11.784768</td>\n",
       "      <td>...</td>\n",
       "      <td>11.776024</td>\n",
       "      <td>11.785603</td>\n",
       "      <td>11.803635</td>\n",
       "      <td>11.791175</td>\n",
       "      <td>11.782758</td>\n",
       "      <td>11.783898</td>\n",
       "      <td>11.795973</td>\n",
       "      <td>11.788878</td>\n",
       "      <td>11.776507</td>\n",
       "      <td>11.787157</td>\n",
       "    </tr>\n",
       "    <tr>\n",
       "      <th>1</th>\n",
       "      <td>MIR6859-1</td>\n",
       "      <td>11.777003</td>\n",
       "      <td>11.771146</td>\n",
       "      <td>11.788737</td>\n",
       "      <td>11.794551</td>\n",
       "      <td>11.774662</td>\n",
       "      <td>11.795183</td>\n",
       "      <td>11.788741</td>\n",
       "      <td>11.790229</td>\n",
       "      <td>11.792712</td>\n",
       "      <td>...</td>\n",
       "      <td>11.780836</td>\n",
       "      <td>11.791450</td>\n",
       "      <td>11.764773</td>\n",
       "      <td>11.793298</td>\n",
       "      <td>11.788702</td>\n",
       "      <td>11.788341</td>\n",
       "      <td>11.792424</td>\n",
       "      <td>11.787538</td>\n",
       "      <td>11.784161</td>\n",
       "      <td>11.778710</td>\n",
       "    </tr>\n",
       "    <tr>\n",
       "      <th>2</th>\n",
       "      <td>MIR1302-2</td>\n",
       "      <td>11.794012</td>\n",
       "      <td>11.775589</td>\n",
       "      <td>11.785965</td>\n",
       "      <td>11.788804</td>\n",
       "      <td>11.792377</td>\n",
       "      <td>11.784300</td>\n",
       "      <td>11.778412</td>\n",
       "      <td>11.780364</td>\n",
       "      <td>11.781933</td>\n",
       "      <td>...</td>\n",
       "      <td>11.805054</td>\n",
       "      <td>11.785422</td>\n",
       "      <td>11.784409</td>\n",
       "      <td>11.773451</td>\n",
       "      <td>11.795937</td>\n",
       "      <td>11.777230</td>\n",
       "      <td>11.794820</td>\n",
       "      <td>11.790036</td>\n",
       "      <td>11.794736</td>\n",
       "      <td>11.784662</td>\n",
       "    </tr>\n",
       "    <tr>\n",
       "      <th>3</th>\n",
       "      <td>FAM138A</td>\n",
       "      <td>11.787199</td>\n",
       "      <td>11.782328</td>\n",
       "      <td>11.770552</td>\n",
       "      <td>11.779456</td>\n",
       "      <td>11.784175</td>\n",
       "      <td>11.774218</td>\n",
       "      <td>11.779154</td>\n",
       "      <td>11.773683</td>\n",
       "      <td>11.782536</td>\n",
       "      <td>...</td>\n",
       "      <td>11.787741</td>\n",
       "      <td>11.786413</td>\n",
       "      <td>11.795858</td>\n",
       "      <td>11.784080</td>\n",
       "      <td>11.782555</td>\n",
       "      <td>11.794497</td>\n",
       "      <td>11.785193</td>\n",
       "      <td>11.783233</td>\n",
       "      <td>11.769074</td>\n",
       "      <td>11.789967</td>\n",
       "    </tr>\n",
       "    <tr>\n",
       "      <th>4</th>\n",
       "      <td>OR4F5</td>\n",
       "      <td>11.789625</td>\n",
       "      <td>11.796473</td>\n",
       "      <td>11.791192</td>\n",
       "      <td>11.790422</td>\n",
       "      <td>11.777537</td>\n",
       "      <td>11.792692</td>\n",
       "      <td>11.793841</td>\n",
       "      <td>11.789417</td>\n",
       "      <td>11.788608</td>\n",
       "      <td>...</td>\n",
       "      <td>11.783087</td>\n",
       "      <td>11.785888</td>\n",
       "      <td>11.785830</td>\n",
       "      <td>11.782270</td>\n",
       "      <td>11.792847</td>\n",
       "      <td>11.794159</td>\n",
       "      <td>11.786462</td>\n",
       "      <td>11.787415</td>\n",
       "      <td>11.780066</td>\n",
       "      <td>11.772575</td>\n",
       "    </tr>\n",
       "  </tbody>\n",
       "</table>\n",
       "<p>5 rows × 185 columns</p>\n",
       "</div>"
      ],
      "text/plain": [
       "  Unnamed: 0  DMSO_0_24_ASPC1  DMSO_0_24_ASPC1.1  UNTREATED_0_24_ASPC1  \\\n",
       "0    DDX11L1        11.785438          11.797613             11.771380   \n",
       "1  MIR6859-1        11.777003          11.771146             11.788737   \n",
       "2  MIR1302-2        11.794012          11.775589             11.785965   \n",
       "3    FAM138A        11.787199          11.782328             11.770552   \n",
       "4      OR4F5        11.789625          11.796473             11.791192   \n",
       "\n",
       "   DMSO_0_24_ASPC1.2  UNTREATED_0_24_ASPC1.1  DMSO_0_24_ASPC1.3  \\\n",
       "0          11.793581               11.781772          11.783283   \n",
       "1          11.794551               11.774662          11.795183   \n",
       "2          11.788804               11.792377          11.784300   \n",
       "3          11.779456               11.784175          11.774218   \n",
       "4          11.790422               11.777537          11.792692   \n",
       "\n",
       "   UNTREATED_0_24_ASPC1.2  DMSO_0_24_ASPC1.4  UNTREATED_0_24_ASPC1.3  ...  \\\n",
       "0               11.789473          11.782482               11.784768  ...   \n",
       "1               11.788741          11.790229               11.792712  ...   \n",
       "2               11.778412          11.780364               11.781933  ...   \n",
       "3               11.779154          11.773683               11.782536  ...   \n",
       "4               11.793841          11.789417               11.788608  ...   \n",
       "\n",
       "   UNTREATED_0_24_ASPC1.54  DMSO_0_24_ASPC1.56  UNTREATED_0_24_ASPC1.55  \\\n",
       "0                11.776024           11.785603                11.803635   \n",
       "1                11.780836           11.791450                11.764773   \n",
       "2                11.805054           11.785422                11.784409   \n",
       "3                11.787741           11.786413                11.795858   \n",
       "4                11.783087           11.785888                11.785830   \n",
       "\n",
       "   DMSO_0_24_ASPC1.57  UNTREATED_0_24_ASPC1.56  DMSO_0_24_ASPC1.58  \\\n",
       "0           11.791175                11.782758           11.783898   \n",
       "1           11.793298                11.788702           11.788341   \n",
       "2           11.773451                11.795937           11.777230   \n",
       "3           11.784080                11.782555           11.794497   \n",
       "4           11.782270                11.792847           11.794159   \n",
       "\n",
       "   UNTREATED_0_24_ASPC1.57  DMSO_0_24_ASPC1.59  UNTREATED_0_24_ASPC1.58  \\\n",
       "0                11.795973           11.788878                11.776507   \n",
       "1                11.792424           11.787538                11.784161   \n",
       "2                11.794820           11.790036                11.794736   \n",
       "3                11.785193           11.783233                11.769074   \n",
       "4                11.786462           11.787415                11.780066   \n",
       "\n",
       "   UNTREATED_0_24_ASPC1.59  \n",
       "0                11.787157  \n",
       "1                11.778710  \n",
       "2                11.784662  \n",
       "3                11.789967  \n",
       "4                11.772575  \n",
       "\n",
       "[5 rows x 185 columns]"
      ]
     },
     "execution_count": 2,
     "metadata": {},
     "output_type": "execute_result"
    }
   ],
   "source": [
    "aspc1 = pd.read_csv(\"rnaseq/ASPC1-RNAseq-Perturbations.csv\")\n",
    "aspc1.head()"
   ]
  },
  {
   "cell_type": "code",
   "execution_count": 8,
   "metadata": {},
   "outputs": [
    {
     "data": {
      "text/html": [
       "<div>\n",
       "<style scoped>\n",
       "    .dataframe tbody tr th:only-of-type {\n",
       "        vertical-align: middle;\n",
       "    }\n",
       "\n",
       "    .dataframe tbody tr th {\n",
       "        vertical-align: top;\n",
       "    }\n",
       "\n",
       "    .dataframe thead th {\n",
       "        text-align: right;\n",
       "    }\n",
       "</style>\n",
       "<table border=\"1\" class=\"dataframe\">\n",
       "  <thead>\n",
       "    <tr style=\"text-align: right;\">\n",
       "      <th></th>\n",
       "      <th>Unnamed: 0</th>\n",
       "      <th>DMSO_0_24_ASPC1</th>\n",
       "      <th>DMSO_0_24_ASPC1.1</th>\n",
       "      <th>UNTREATED_0_24_ASPC1</th>\n",
       "      <th>DMSO_0_24_ASPC1.2</th>\n",
       "      <th>UNTREATED_0_24_ASPC1.1</th>\n",
       "      <th>DMSO_0_24_ASPC1.3</th>\n",
       "      <th>UNTREATED_0_24_ASPC1.2</th>\n",
       "      <th>DMSO_0_24_ASPC1.4</th>\n",
       "      <th>UNTREATED_0_24_ASPC1.3</th>\n",
       "      <th>...</th>\n",
       "      <th>UNTREATED_0_24_ASPC1.54</th>\n",
       "      <th>DMSO_0_24_ASPC1.56</th>\n",
       "      <th>UNTREATED_0_24_ASPC1.55</th>\n",
       "      <th>DMSO_0_24_ASPC1.57</th>\n",
       "      <th>UNTREATED_0_24_ASPC1.56</th>\n",
       "      <th>DMSO_0_24_ASPC1.58</th>\n",
       "      <th>UNTREATED_0_24_ASPC1.57</th>\n",
       "      <th>DMSO_0_24_ASPC1.59</th>\n",
       "      <th>UNTREATED_0_24_ASPC1.58</th>\n",
       "      <th>UNTREATED_0_24_ASPC1.59</th>\n",
       "    </tr>\n",
       "  </thead>\n",
       "  <tbody>\n",
       "    <tr>\n",
       "      <th>23334</th>\n",
       "      <td>TTTY4C</td>\n",
       "      <td>11.780585</td>\n",
       "      <td>11.780012</td>\n",
       "      <td>11.793569</td>\n",
       "      <td>11.788111</td>\n",
       "      <td>11.766342</td>\n",
       "      <td>11.780134</td>\n",
       "      <td>11.770226</td>\n",
       "      <td>11.786802</td>\n",
       "      <td>11.779596</td>\n",
       "      <td>...</td>\n",
       "      <td>11.786706</td>\n",
       "      <td>11.778832</td>\n",
       "      <td>11.787328</td>\n",
       "      <td>11.783475</td>\n",
       "      <td>11.789076</td>\n",
       "      <td>11.799591</td>\n",
       "      <td>11.783503</td>\n",
       "      <td>11.778583</td>\n",
       "      <td>11.785980</td>\n",
       "      <td>11.798895</td>\n",
       "    </tr>\n",
       "    <tr>\n",
       "      <th>23335</th>\n",
       "      <td>TTTY17C</td>\n",
       "      <td>11.783994</td>\n",
       "      <td>11.781855</td>\n",
       "      <td>11.781676</td>\n",
       "      <td>11.779693</td>\n",
       "      <td>11.770875</td>\n",
       "      <td>11.784517</td>\n",
       "      <td>11.767821</td>\n",
       "      <td>11.799305</td>\n",
       "      <td>11.786209</td>\n",
       "      <td>...</td>\n",
       "      <td>11.789729</td>\n",
       "      <td>11.776584</td>\n",
       "      <td>11.780854</td>\n",
       "      <td>11.790733</td>\n",
       "      <td>11.788310</td>\n",
       "      <td>11.784594</td>\n",
       "      <td>11.783902</td>\n",
       "      <td>11.776703</td>\n",
       "      <td>11.790346</td>\n",
       "      <td>11.791547</td>\n",
       "    </tr>\n",
       "    <tr>\n",
       "      <th>23336</th>\n",
       "      <td>CSPG4P1Y</td>\n",
       "      <td>11.788641</td>\n",
       "      <td>11.794087</td>\n",
       "      <td>11.781863</td>\n",
       "      <td>11.778995</td>\n",
       "      <td>11.792220</td>\n",
       "      <td>11.776765</td>\n",
       "      <td>11.782747</td>\n",
       "      <td>11.777369</td>\n",
       "      <td>11.774677</td>\n",
       "      <td>...</td>\n",
       "      <td>11.794770</td>\n",
       "      <td>11.786007</td>\n",
       "      <td>11.769212</td>\n",
       "      <td>11.775100</td>\n",
       "      <td>11.783178</td>\n",
       "      <td>11.788194</td>\n",
       "      <td>11.788870</td>\n",
       "      <td>11.794581</td>\n",
       "      <td>11.782289</td>\n",
       "      <td>11.776004</td>\n",
       "    </tr>\n",
       "    <tr>\n",
       "      <th>23337</th>\n",
       "      <td>CDY1</td>\n",
       "      <td>11.783949</td>\n",
       "      <td>11.790785</td>\n",
       "      <td>11.787929</td>\n",
       "      <td>11.795436</td>\n",
       "      <td>11.779236</td>\n",
       "      <td>11.782899</td>\n",
       "      <td>11.787644</td>\n",
       "      <td>11.774367</td>\n",
       "      <td>11.791786</td>\n",
       "      <td>...</td>\n",
       "      <td>11.760743</td>\n",
       "      <td>11.784446</td>\n",
       "      <td>11.782683</td>\n",
       "      <td>11.781492</td>\n",
       "      <td>11.782485</td>\n",
       "      <td>11.786230</td>\n",
       "      <td>11.780217</td>\n",
       "      <td>11.785146</td>\n",
       "      <td>11.794934</td>\n",
       "      <td>11.789233</td>\n",
       "    </tr>\n",
       "    <tr>\n",
       "      <th>23338</th>\n",
       "      <td>TTTY3</td>\n",
       "      <td>11.776076</td>\n",
       "      <td>11.782730</td>\n",
       "      <td>11.786232</td>\n",
       "      <td>11.789616</td>\n",
       "      <td>11.789653</td>\n",
       "      <td>11.792115</td>\n",
       "      <td>11.784806</td>\n",
       "      <td>11.795861</td>\n",
       "      <td>11.773449</td>\n",
       "      <td>...</td>\n",
       "      <td>11.793433</td>\n",
       "      <td>11.784186</td>\n",
       "      <td>11.771730</td>\n",
       "      <td>11.800435</td>\n",
       "      <td>11.786660</td>\n",
       "      <td>11.783314</td>\n",
       "      <td>11.780663</td>\n",
       "      <td>11.781632</td>\n",
       "      <td>11.787234</td>\n",
       "      <td>11.787144</td>\n",
       "    </tr>\n",
       "  </tbody>\n",
       "</table>\n",
       "<p>5 rows × 185 columns</p>\n",
       "</div>"
      ],
      "text/plain": [
       "      Unnamed: 0  DMSO_0_24_ASPC1  DMSO_0_24_ASPC1.1  UNTREATED_0_24_ASPC1  \\\n",
       "23334     TTTY4C        11.780585          11.780012             11.793569   \n",
       "23335    TTTY17C        11.783994          11.781855             11.781676   \n",
       "23336   CSPG4P1Y        11.788641          11.794087             11.781863   \n",
       "23337       CDY1        11.783949          11.790785             11.787929   \n",
       "23338      TTTY3        11.776076          11.782730             11.786232   \n",
       "\n",
       "       DMSO_0_24_ASPC1.2  UNTREATED_0_24_ASPC1.1  DMSO_0_24_ASPC1.3  \\\n",
       "23334          11.788111               11.766342          11.780134   \n",
       "23335          11.779693               11.770875          11.784517   \n",
       "23336          11.778995               11.792220          11.776765   \n",
       "23337          11.795436               11.779236          11.782899   \n",
       "23338          11.789616               11.789653          11.792115   \n",
       "\n",
       "       UNTREATED_0_24_ASPC1.2  DMSO_0_24_ASPC1.4  UNTREATED_0_24_ASPC1.3  ...  \\\n",
       "23334               11.770226          11.786802               11.779596  ...   \n",
       "23335               11.767821          11.799305               11.786209  ...   \n",
       "23336               11.782747          11.777369               11.774677  ...   \n",
       "23337               11.787644          11.774367               11.791786  ...   \n",
       "23338               11.784806          11.795861               11.773449  ...   \n",
       "\n",
       "       UNTREATED_0_24_ASPC1.54  DMSO_0_24_ASPC1.56  UNTREATED_0_24_ASPC1.55  \\\n",
       "23334                11.786706           11.778832                11.787328   \n",
       "23335                11.789729           11.776584                11.780854   \n",
       "23336                11.794770           11.786007                11.769212   \n",
       "23337                11.760743           11.784446                11.782683   \n",
       "23338                11.793433           11.784186                11.771730   \n",
       "\n",
       "       DMSO_0_24_ASPC1.57  UNTREATED_0_24_ASPC1.56  DMSO_0_24_ASPC1.58  \\\n",
       "23334           11.783475                11.789076           11.799591   \n",
       "23335           11.790733                11.788310           11.784594   \n",
       "23336           11.775100                11.783178           11.788194   \n",
       "23337           11.781492                11.782485           11.786230   \n",
       "23338           11.800435                11.786660           11.783314   \n",
       "\n",
       "       UNTREATED_0_24_ASPC1.57  DMSO_0_24_ASPC1.59  UNTREATED_0_24_ASPC1.58  \\\n",
       "23334                11.783503           11.778583                11.785980   \n",
       "23335                11.783902           11.776703                11.790346   \n",
       "23336                11.788870           11.794581                11.782289   \n",
       "23337                11.780217           11.785146                11.794934   \n",
       "23338                11.780663           11.781632                11.787234   \n",
       "\n",
       "       UNTREATED_0_24_ASPC1.59  \n",
       "23334                11.798895  \n",
       "23335                11.791547  \n",
       "23336                11.776004  \n",
       "23337                11.789233  \n",
       "23338                11.787144  \n",
       "\n",
       "[5 rows x 185 columns]"
      ]
     },
     "execution_count": 8,
     "metadata": {},
     "output_type": "execute_result"
    }
   ],
   "source": [
    "aspc1.tail()"
   ]
  },
  {
   "cell_type": "code",
   "execution_count": 5,
   "metadata": {},
   "outputs": [
    {
     "data": {
      "text/plain": [
       "(23339, 185)"
      ]
     },
     "execution_count": 5,
     "metadata": {},
     "output_type": "execute_result"
    }
   ],
   "source": [
    "aspc1.shape"
   ]
  },
  {
   "cell_type": "code",
   "execution_count": 35,
   "metadata": {},
   "outputs": [
    {
     "data": {
      "text/plain": [
       "genes                      DDX11L1MIR6859-1MIR1302-2FAM138AOR4F5MIR6859-2...\n",
       "DMSO_0_24_ASPC1                                                       309277\n",
       "DMSO_0_24_ASPC1.1                                                     309280\n",
       "UNTREATED_0_24_ASPC1                                                  309297\n",
       "DMSO_0_24_ASPC1.2                                                     309287\n",
       "                                                 ...                        \n",
       "DMSO_0_24_ASPC1.58                                                    309129\n",
       "UNTREATED_0_24_ASPC1.57                                               309109\n",
       "DMSO_0_24_ASPC1.59                                                    309144\n",
       "UNTREATED_0_24_ASPC1.58                                               309097\n",
       "UNTREATED_0_24_ASPC1.59                                               309185\n",
       "Length: 185, dtype: object"
      ]
     },
     "execution_count": 35,
     "metadata": {},
     "output_type": "execute_result"
    }
   ],
   "source": [
    "aspc1.sum(axis=0)"
   ]
  },
  {
   "cell_type": "code",
   "execution_count": 36,
   "metadata": {},
   "outputs": [
    {
     "data": {
      "text/plain": [
       "0        2168.540491\n",
       "1        2168.263139\n",
       "2        2168.621157\n",
       "3        2168.213423\n",
       "4        2168.373875\n",
       "            ...     \n",
       "23334    2168.436671\n",
       "23335    2168.228597\n",
       "23336    2168.415447\n",
       "23337    2168.274616\n",
       "23338    2168.414578\n",
       "Length: 23339, dtype: float64"
      ]
     },
     "execution_count": 36,
     "metadata": {},
     "output_type": "execute_result"
    }
   ],
   "source": [
    "aspc1.sum(axis=1)"
   ]
  },
  {
   "cell_type": "code",
   "execution_count": null,
   "metadata": {
    "collapsed": true
   },
   "outputs": [],
   "source": []
  },
  {
   "cell_type": "code",
   "execution_count": 3,
   "metadata": {},
   "outputs": [
    {
     "data": {
      "text/plain": [
       "Index(['Unnamed: 0', 'DMSO_0_24_ASPC1', 'DMSO_0_24_ASPC1.1',\n",
       "       'UNTREATED_0_24_ASPC1', 'DMSO_0_24_ASPC1.2', 'UNTREATED_0_24_ASPC1.1',\n",
       "       'DMSO_0_24_ASPC1.3', 'UNTREATED_0_24_ASPC1.2', 'DMSO_0_24_ASPC1.4',\n",
       "       'UNTREATED_0_24_ASPC1.3', 'DMSO_0_24_ASPC1.5', 'UNTREATED_0_24_ASPC1.4',\n",
       "       'UNTREATED_0_24_ASPC1.5', 'DMSO_0_24_ASPC1.6', 'ICOTINIB_7.5_24_ASPC1',\n",
       "       'DMSO_0_24_ASPC1.7', 'CEDIRANIB_0.22_24_ASPC1',\n",
       "       'QUIZARTINIB_1.5_24_ASPC1', 'UNTREATED_0_24_ASPC1.6',\n",
       "       'DMSO_0_24_ASPC1.8', 'CRIZOTINIB_0.19_24_ASPC1',\n",
       "       'UNTREATED_0_24_ASPC1.7', 'DMSO_0_24_ASPC1.9',\n",
       "       'VANDETANIB_0.11_24_ASPC1', 'AEE788_0.17_24_ASPC1',\n",
       "       'UNTREATED_0_24_ASPC1.8', 'DMSO_0_24_ASPC1.10',\n",
       "       'NILOTINIB_0.335_24_ASPC1', 'DACOMITINIB_0.05_24_ASPC1',\n",
       "       'CRENOLANIB_0.145_24_ASPC1', 'UNTREATED_0_24_ASPC1.9',\n",
       "       'DMSO_0_24_ASPC1.11', 'DOVITINIB_2_24_ASPC1', 'MGCD265_1_24_ASPC1',\n",
       "       'BAFETINIB_2_24_ASPC1', 'UNTREATED_0_24_ASPC1.10',\n",
       "       'AZD5363_0.02_24_ASPC1', 'IMATINIB_5_24_ASPC1',\n",
       "       'UNTREATED_0_24_ASPC1.11', 'DMSO_0_24_ASPC1.12', 'DMSO_0_24_ASPC1.13',\n",
       "       'GEFITINIB_0.5_24_ASPC1', 'UNTREATED_0_24_ASPC1.12',\n",
       "       'DMSO_0_24_ASPC1.14', 'DASATINIB_0.345_24_ASPC1',\n",
       "       'UNTREATED_0_24_ASPC1.13', 'DMSO_0_24_ASPC1.15',\n",
       "       'UNTREATED_0_24_ASPC1.14', 'AFATINIB_0.09_24_ASPC1',\n",
       "       'DMSO_0_24_ASPC1.16', 'UNTREATED_0_24_ASPC1.15',\n",
       "       'SUNITINIB_0.045_24_ASPC1', 'DMSO_0_24_ASPC1.17',\n",
       "       'PONATINIB_0.135_24_ASPC1', 'OSIMERTINIB_1_24_ASPC1',\n",
       "       'SORAFENIB_4.5_24_ASPC1', 'UNTREATED_0_24_ASPC1.16',\n",
       "       'BOSUTINIB_0.5_24_ASPC1', 'LAPATINIB_2.5_24_ASPC1',\n",
       "       'CABOZANTINIB_1_24_ASPC1', 'UNTREATED_0_24_ASPC1.17',\n",
       "       'DMSO_0_24_ASPC1.18', 'DMSO_0_24_ASPC1.19', 'VARLITINIB_0.5_24_ASPC1',\n",
       "       'UNTREATED_0_24_ASPC1.18', 'DMSO_0_24_ASPC1.20', 'LINIFANIB_1_24_ASPC1',\n",
       "       'UNTREATED_0_24_ASPC1.19', 'DMSO_0_24_ASPC1.21', 'MK2206_0.5_24_ASPC1',\n",
       "       'REGORAFENIB_5_24_ASPC1', 'UNTREATED_0_24_ASPC1.20',\n",
       "       'DMSO_0_24_ASPC1.22', 'UNTREATED_0_24_ASPC1.21',\n",
       "       'TIVANTINIB_0.345_24_ASPC1', 'FORETINIB_0.255_24_ASPC1',\n",
       "       'DMSO_0_24_ASPC1.23', 'NERATINIB_0.225_24_ASPC1',\n",
       "       'UNTREATED_0_24_ASPC1.22', 'KW2449_7_24_ASPC1',\n",
       "       'UNTREATED_0_24_ASPC1.23', 'DMSO_0_24_ASPC1.24', 'DMSO_0_24_ASPC1.25',\n",
       "       'UNTREATED_0_24_ASPC1.24', 'DMSO_0_24_ASPC1.26',\n",
       "       'UNTREATED_0_24_ASPC1.25', 'DMSO_0_24_ASPC1.27',\n",
       "       'UNTREATED_0_24_ASPC1.26', 'DMSO_0_24_ASPC1.28',\n",
       "       'UNTREATED_0_24_ASPC1.27', 'DMSO_0_24_ASPC1.29',\n",
       "       'UNTREATED_0_24_ASPC1.28', 'UNTREATED_0_24_ASPC1.29',\n",
       "       'DMSO_0_24_ASPC1.30', 'DMSO_0_24_ASPC1.31', 'UNTREATED_0_24_ASPC1.30',\n",
       "       'DMSO_0_24_ASPC1.32', 'UNTREATED_0_24_ASPC1.31', 'DMSO_0_24_ASPC1.33',\n",
       "       'UNTREATED_0_24_ASPC1.32'],\n",
       "      dtype='object')"
      ]
     },
     "execution_count": 3,
     "metadata": {},
     "output_type": "execute_result"
    }
   ],
   "source": [
    "aspc1.columns[:100]"
   ]
  },
  {
   "cell_type": "code",
   "execution_count": 10,
   "metadata": {},
   "outputs": [
    {
     "data": {
      "text/plain": [
       "Index(['DMSO_0_24_ASPC1.34', 'UNTREATED_0_24_ASPC1.33', 'DMSO_0_24_ASPC1.35',\n",
       "       'UNTREATED_0_24_ASPC1.34', 'UNTREATED_0_24_ASPC1.35',\n",
       "       'DMSO_0_24_ASPC1.36', 'ICOTINIB_7.5_24_ASPC1.1', 'DMSO_0_24_ASPC1.37',\n",
       "       'CEDIRANIB_0.22_24_ASPC1.1', 'QUIZARTINIB_1.5_24_ASPC1.1',\n",
       "       'UNTREATED_0_24_ASPC1.36', 'DMSO_0_24_ASPC1.38',\n",
       "       'CRIZOTINIB_0.19_24_ASPC1.1', 'UNTREATED_0_24_ASPC1.37',\n",
       "       'DMSO_0_24_ASPC1.39', 'VANDETANIB_0.11_24_ASPC1.1',\n",
       "       'AEE788_0.17_24_ASPC1.1', 'UNTREATED_0_24_ASPC1.38',\n",
       "       'DMSO_0_24_ASPC1.40', 'NILOTINIB_0.335_24_ASPC1.1',\n",
       "       'DACOMITINIB_0.05_24_ASPC1.1', 'CRENOLANIB_0.145_24_ASPC1.1',\n",
       "       'UNTREATED_0_24_ASPC1.39', 'DMSO_0_24_ASPC1.41',\n",
       "       'DOVITINIB_2_24_ASPC1.1', 'MGCD265_1_24_ASPC1.1',\n",
       "       'BAFETINIB_2_24_ASPC1.1', 'UNTREATED_0_24_ASPC1.40',\n",
       "       'AZD5363_0.02_24_ASPC1.1', 'IMATINIB_5_24_ASPC1.1',\n",
       "       'UNTREATED_0_24_ASPC1.41', 'DMSO_0_24_ASPC1.42', 'DMSO_0_24_ASPC1.43',\n",
       "       'GEFITINIB_0.5_24_ASPC1.1', 'UNTREATED_0_24_ASPC1.42',\n",
       "       'DMSO_0_24_ASPC1.44', 'DASATINIB_0.345_24_ASPC1.1',\n",
       "       'UNTREATED_0_24_ASPC1.43', 'DMSO_0_24_ASPC1.45',\n",
       "       'UNTREATED_0_24_ASPC1.44', 'AFATINIB_0.09_24_ASPC1.1',\n",
       "       'DMSO_0_24_ASPC1.46', 'UNTREATED_0_24_ASPC1.45',\n",
       "       'SUNITINIB_0.045_24_ASPC1.1', 'DMSO_0_24_ASPC1.47',\n",
       "       'PONATINIB_0.135_24_ASPC1.1', 'OSIMERTINIB_1_24_ASPC1.1',\n",
       "       'SORAFENIB_4.5_24_ASPC1.1', 'UNTREATED_0_24_ASPC1.46',\n",
       "       'BOSUTINIB_0.5_24_ASPC1.1', 'LAPATINIB_2.5_24_ASPC1.1',\n",
       "       'CABOZANTINIB_1_24_ASPC1.1', 'UNTREATED_0_24_ASPC1.47',\n",
       "       'DMSO_0_24_ASPC1.48', 'DMSO_0_24_ASPC1.49', 'VARLITINIB_0.5_24_ASPC1.1',\n",
       "       'UNTREATED_0_24_ASPC1.48', 'DMSO_0_24_ASPC1.50',\n",
       "       'LINIFANIB_1_24_ASPC1.1', 'UNTREATED_0_24_ASPC1.49',\n",
       "       'DMSO_0_24_ASPC1.51', 'MK2206_0.5_24_ASPC1.1',\n",
       "       'REGORAFENIB_5_24_ASPC1.1', 'UNTREATED_0_24_ASPC1.50',\n",
       "       'DMSO_0_24_ASPC1.52', 'UNTREATED_0_24_ASPC1.51',\n",
       "       'TIVANTINIB_0.345_24_ASPC1.1', 'FORETINIB_0.255_24_ASPC1.1',\n",
       "       'DMSO_0_24_ASPC1.53', 'NERATINIB_0.225_24_ASPC1.1',\n",
       "       'UNTREATED_0_24_ASPC1.52', 'KW2449_7_24_ASPC1.1',\n",
       "       'UNTREATED_0_24_ASPC1.53', 'DMSO_0_24_ASPC1.54', 'DMSO_0_24_ASPC1.55',\n",
       "       'UNTREATED_0_24_ASPC1.54', 'DMSO_0_24_ASPC1.56',\n",
       "       'UNTREATED_0_24_ASPC1.55', 'DMSO_0_24_ASPC1.57',\n",
       "       'UNTREATED_0_24_ASPC1.56', 'DMSO_0_24_ASPC1.58',\n",
       "       'UNTREATED_0_24_ASPC1.57', 'DMSO_0_24_ASPC1.59',\n",
       "       'UNTREATED_0_24_ASPC1.58', 'UNTREATED_0_24_ASPC1.59'],\n",
       "      dtype='object')"
      ]
     },
     "execution_count": 10,
     "metadata": {},
     "output_type": "execute_result"
    }
   ],
   "source": [
    "aspc1.columns[100:]"
   ]
  },
  {
   "cell_type": "code",
   "execution_count": null,
   "metadata": {
    "collapsed": true
   },
   "outputs": [],
   "source": []
  },
  {
   "cell_type": "code",
   "execution_count": 3,
   "metadata": {
    "collapsed": true
   },
   "outputs": [],
   "source": [
    "def rename_first_col(df):\n",
    "    df.rename(columns={\"Unnamed: 0\": \"genes\"}, inplace=True)\n",
    "    return df"
   ]
  },
  {
   "cell_type": "code",
   "execution_count": 4,
   "metadata": {},
   "outputs": [
    {
     "data": {
      "text/html": [
       "<div>\n",
       "<style scoped>\n",
       "    .dataframe tbody tr th:only-of-type {\n",
       "        vertical-align: middle;\n",
       "    }\n",
       "\n",
       "    .dataframe tbody tr th {\n",
       "        vertical-align: top;\n",
       "    }\n",
       "\n",
       "    .dataframe thead th {\n",
       "        text-align: right;\n",
       "    }\n",
       "</style>\n",
       "<table border=\"1\" class=\"dataframe\">\n",
       "  <thead>\n",
       "    <tr style=\"text-align: right;\">\n",
       "      <th></th>\n",
       "      <th>genes</th>\n",
       "      <th>DMSO_0_24_ASPC1</th>\n",
       "      <th>DMSO_0_24_ASPC1.1</th>\n",
       "      <th>UNTREATED_0_24_ASPC1</th>\n",
       "      <th>DMSO_0_24_ASPC1.2</th>\n",
       "      <th>UNTREATED_0_24_ASPC1.1</th>\n",
       "      <th>DMSO_0_24_ASPC1.3</th>\n",
       "      <th>UNTREATED_0_24_ASPC1.2</th>\n",
       "      <th>DMSO_0_24_ASPC1.4</th>\n",
       "      <th>UNTREATED_0_24_ASPC1.3</th>\n",
       "      <th>...</th>\n",
       "      <th>UNTREATED_0_24_ASPC1.54</th>\n",
       "      <th>DMSO_0_24_ASPC1.56</th>\n",
       "      <th>UNTREATED_0_24_ASPC1.55</th>\n",
       "      <th>DMSO_0_24_ASPC1.57</th>\n",
       "      <th>UNTREATED_0_24_ASPC1.56</th>\n",
       "      <th>DMSO_0_24_ASPC1.58</th>\n",
       "      <th>UNTREATED_0_24_ASPC1.57</th>\n",
       "      <th>DMSO_0_24_ASPC1.59</th>\n",
       "      <th>UNTREATED_0_24_ASPC1.58</th>\n",
       "      <th>UNTREATED_0_24_ASPC1.59</th>\n",
       "    </tr>\n",
       "  </thead>\n",
       "  <tbody>\n",
       "    <tr>\n",
       "      <th>0</th>\n",
       "      <td>DDX11L1</td>\n",
       "      <td>11.785438</td>\n",
       "      <td>11.797613</td>\n",
       "      <td>11.771380</td>\n",
       "      <td>11.793581</td>\n",
       "      <td>11.781772</td>\n",
       "      <td>11.783283</td>\n",
       "      <td>11.789473</td>\n",
       "      <td>11.782482</td>\n",
       "      <td>11.784768</td>\n",
       "      <td>...</td>\n",
       "      <td>11.776024</td>\n",
       "      <td>11.785603</td>\n",
       "      <td>11.803635</td>\n",
       "      <td>11.791175</td>\n",
       "      <td>11.782758</td>\n",
       "      <td>11.783898</td>\n",
       "      <td>11.795973</td>\n",
       "      <td>11.788878</td>\n",
       "      <td>11.776507</td>\n",
       "      <td>11.787157</td>\n",
       "    </tr>\n",
       "    <tr>\n",
       "      <th>1</th>\n",
       "      <td>MIR6859-1</td>\n",
       "      <td>11.777003</td>\n",
       "      <td>11.771146</td>\n",
       "      <td>11.788737</td>\n",
       "      <td>11.794551</td>\n",
       "      <td>11.774662</td>\n",
       "      <td>11.795183</td>\n",
       "      <td>11.788741</td>\n",
       "      <td>11.790229</td>\n",
       "      <td>11.792712</td>\n",
       "      <td>...</td>\n",
       "      <td>11.780836</td>\n",
       "      <td>11.791450</td>\n",
       "      <td>11.764773</td>\n",
       "      <td>11.793298</td>\n",
       "      <td>11.788702</td>\n",
       "      <td>11.788341</td>\n",
       "      <td>11.792424</td>\n",
       "      <td>11.787538</td>\n",
       "      <td>11.784161</td>\n",
       "      <td>11.778710</td>\n",
       "    </tr>\n",
       "    <tr>\n",
       "      <th>2</th>\n",
       "      <td>MIR1302-2</td>\n",
       "      <td>11.794012</td>\n",
       "      <td>11.775589</td>\n",
       "      <td>11.785965</td>\n",
       "      <td>11.788804</td>\n",
       "      <td>11.792377</td>\n",
       "      <td>11.784300</td>\n",
       "      <td>11.778412</td>\n",
       "      <td>11.780364</td>\n",
       "      <td>11.781933</td>\n",
       "      <td>...</td>\n",
       "      <td>11.805054</td>\n",
       "      <td>11.785422</td>\n",
       "      <td>11.784409</td>\n",
       "      <td>11.773451</td>\n",
       "      <td>11.795937</td>\n",
       "      <td>11.777230</td>\n",
       "      <td>11.794820</td>\n",
       "      <td>11.790036</td>\n",
       "      <td>11.794736</td>\n",
       "      <td>11.784662</td>\n",
       "    </tr>\n",
       "    <tr>\n",
       "      <th>3</th>\n",
       "      <td>FAM138A</td>\n",
       "      <td>11.787199</td>\n",
       "      <td>11.782328</td>\n",
       "      <td>11.770552</td>\n",
       "      <td>11.779456</td>\n",
       "      <td>11.784175</td>\n",
       "      <td>11.774218</td>\n",
       "      <td>11.779154</td>\n",
       "      <td>11.773683</td>\n",
       "      <td>11.782536</td>\n",
       "      <td>...</td>\n",
       "      <td>11.787741</td>\n",
       "      <td>11.786413</td>\n",
       "      <td>11.795858</td>\n",
       "      <td>11.784080</td>\n",
       "      <td>11.782555</td>\n",
       "      <td>11.794497</td>\n",
       "      <td>11.785193</td>\n",
       "      <td>11.783233</td>\n",
       "      <td>11.769074</td>\n",
       "      <td>11.789967</td>\n",
       "    </tr>\n",
       "    <tr>\n",
       "      <th>4</th>\n",
       "      <td>OR4F5</td>\n",
       "      <td>11.789625</td>\n",
       "      <td>11.796473</td>\n",
       "      <td>11.791192</td>\n",
       "      <td>11.790422</td>\n",
       "      <td>11.777537</td>\n",
       "      <td>11.792692</td>\n",
       "      <td>11.793841</td>\n",
       "      <td>11.789417</td>\n",
       "      <td>11.788608</td>\n",
       "      <td>...</td>\n",
       "      <td>11.783087</td>\n",
       "      <td>11.785888</td>\n",
       "      <td>11.785830</td>\n",
       "      <td>11.782270</td>\n",
       "      <td>11.792847</td>\n",
       "      <td>11.794159</td>\n",
       "      <td>11.786462</td>\n",
       "      <td>11.787415</td>\n",
       "      <td>11.780066</td>\n",
       "      <td>11.772575</td>\n",
       "    </tr>\n",
       "  </tbody>\n",
       "</table>\n",
       "<p>5 rows × 185 columns</p>\n",
       "</div>"
      ],
      "text/plain": [
       "       genes  DMSO_0_24_ASPC1  DMSO_0_24_ASPC1.1  UNTREATED_0_24_ASPC1  \\\n",
       "0    DDX11L1        11.785438          11.797613             11.771380   \n",
       "1  MIR6859-1        11.777003          11.771146             11.788737   \n",
       "2  MIR1302-2        11.794012          11.775589             11.785965   \n",
       "3    FAM138A        11.787199          11.782328             11.770552   \n",
       "4      OR4F5        11.789625          11.796473             11.791192   \n",
       "\n",
       "   DMSO_0_24_ASPC1.2  UNTREATED_0_24_ASPC1.1  DMSO_0_24_ASPC1.3  \\\n",
       "0          11.793581               11.781772          11.783283   \n",
       "1          11.794551               11.774662          11.795183   \n",
       "2          11.788804               11.792377          11.784300   \n",
       "3          11.779456               11.784175          11.774218   \n",
       "4          11.790422               11.777537          11.792692   \n",
       "\n",
       "   UNTREATED_0_24_ASPC1.2  DMSO_0_24_ASPC1.4  UNTREATED_0_24_ASPC1.3  ...  \\\n",
       "0               11.789473          11.782482               11.784768  ...   \n",
       "1               11.788741          11.790229               11.792712  ...   \n",
       "2               11.778412          11.780364               11.781933  ...   \n",
       "3               11.779154          11.773683               11.782536  ...   \n",
       "4               11.793841          11.789417               11.788608  ...   \n",
       "\n",
       "   UNTREATED_0_24_ASPC1.54  DMSO_0_24_ASPC1.56  UNTREATED_0_24_ASPC1.55  \\\n",
       "0                11.776024           11.785603                11.803635   \n",
       "1                11.780836           11.791450                11.764773   \n",
       "2                11.805054           11.785422                11.784409   \n",
       "3                11.787741           11.786413                11.795858   \n",
       "4                11.783087           11.785888                11.785830   \n",
       "\n",
       "   DMSO_0_24_ASPC1.57  UNTREATED_0_24_ASPC1.56  DMSO_0_24_ASPC1.58  \\\n",
       "0           11.791175                11.782758           11.783898   \n",
       "1           11.793298                11.788702           11.788341   \n",
       "2           11.773451                11.795937           11.777230   \n",
       "3           11.784080                11.782555           11.794497   \n",
       "4           11.782270                11.792847           11.794159   \n",
       "\n",
       "   UNTREATED_0_24_ASPC1.57  DMSO_0_24_ASPC1.59  UNTREATED_0_24_ASPC1.58  \\\n",
       "0                11.795973           11.788878                11.776507   \n",
       "1                11.792424           11.787538                11.784161   \n",
       "2                11.794820           11.790036                11.794736   \n",
       "3                11.785193           11.783233                11.769074   \n",
       "4                11.786462           11.787415                11.780066   \n",
       "\n",
       "   UNTREATED_0_24_ASPC1.59  \n",
       "0                11.787157  \n",
       "1                11.778710  \n",
       "2                11.784662  \n",
       "3                11.789967  \n",
       "4                11.772575  \n",
       "\n",
       "[5 rows x 185 columns]"
      ]
     },
     "execution_count": 4,
     "metadata": {},
     "output_type": "execute_result"
    }
   ],
   "source": [
    "aspc1 = rename_first_col(aspc1)\n",
    "aspc1.head()"
   ]
  },
  {
   "cell_type": "code",
   "execution_count": 37,
   "metadata": {},
   "outputs": [
    {
     "data": {
      "text/plain": [
       "23339"
      ]
     },
     "execution_count": 37,
     "metadata": {},
     "output_type": "execute_result"
    }
   ],
   "source": [
    "aspc1.genes.nunique()"
   ]
  },
  {
   "cell_type": "code",
   "execution_count": null,
   "metadata": {
    "collapsed": true
   },
   "outputs": [],
   "source": []
  },
  {
   "cell_type": "markdown",
   "metadata": {},
   "source": [
    "#### Melt DF"
   ]
  },
  {
   "cell_type": "code",
   "execution_count": 5,
   "metadata": {
    "collapsed": true
   },
   "outputs": [],
   "source": [
    "def melt_df(df):\n",
    "    melted = pd.melt(df, id_vars=[\"genes\"], var_name=\"treatment\", value_name=\"norm_count\")\n",
    "    return melted"
   ]
  },
  {
   "cell_type": "code",
   "execution_count": 6,
   "metadata": {},
   "outputs": [
    {
     "data": {
      "text/html": [
       "<div>\n",
       "<style scoped>\n",
       "    .dataframe tbody tr th:only-of-type {\n",
       "        vertical-align: middle;\n",
       "    }\n",
       "\n",
       "    .dataframe tbody tr th {\n",
       "        vertical-align: top;\n",
       "    }\n",
       "\n",
       "    .dataframe thead th {\n",
       "        text-align: right;\n",
       "    }\n",
       "</style>\n",
       "<table border=\"1\" class=\"dataframe\">\n",
       "  <thead>\n",
       "    <tr style=\"text-align: right;\">\n",
       "      <th></th>\n",
       "      <th>genes</th>\n",
       "      <th>treatment</th>\n",
       "      <th>norm_count</th>\n",
       "    </tr>\n",
       "  </thead>\n",
       "  <tbody>\n",
       "    <tr>\n",
       "      <th>0</th>\n",
       "      <td>DDX11L1</td>\n",
       "      <td>DMSO_0_24_ASPC1</td>\n",
       "      <td>11.785438</td>\n",
       "    </tr>\n",
       "    <tr>\n",
       "      <th>1</th>\n",
       "      <td>MIR6859-1</td>\n",
       "      <td>DMSO_0_24_ASPC1</td>\n",
       "      <td>11.777003</td>\n",
       "    </tr>\n",
       "    <tr>\n",
       "      <th>2</th>\n",
       "      <td>MIR1302-2</td>\n",
       "      <td>DMSO_0_24_ASPC1</td>\n",
       "      <td>11.794012</td>\n",
       "    </tr>\n",
       "    <tr>\n",
       "      <th>3</th>\n",
       "      <td>FAM138A</td>\n",
       "      <td>DMSO_0_24_ASPC1</td>\n",
       "      <td>11.787199</td>\n",
       "    </tr>\n",
       "    <tr>\n",
       "      <th>4</th>\n",
       "      <td>OR4F5</td>\n",
       "      <td>DMSO_0_24_ASPC1</td>\n",
       "      <td>11.789625</td>\n",
       "    </tr>\n",
       "  </tbody>\n",
       "</table>\n",
       "</div>"
      ],
      "text/plain": [
       "       genes        treatment  norm_count\n",
       "0    DDX11L1  DMSO_0_24_ASPC1   11.785438\n",
       "1  MIR6859-1  DMSO_0_24_ASPC1   11.777003\n",
       "2  MIR1302-2  DMSO_0_24_ASPC1   11.794012\n",
       "3    FAM138A  DMSO_0_24_ASPC1   11.787199\n",
       "4      OR4F5  DMSO_0_24_ASPC1   11.789625"
      ]
     },
     "execution_count": 6,
     "metadata": {},
     "output_type": "execute_result"
    }
   ],
   "source": [
    "melted_aspc1 = melt_df(aspc1)\n",
    "melted_aspc1.head()"
   ]
  },
  {
   "cell_type": "code",
   "execution_count": 7,
   "metadata": {
    "collapsed": true
   },
   "outputs": [],
   "source": [
    "def split_trtment_col(melted_df, col=\"treatment\"):\n",
    "    treatment_split = melted_df[col].str.split(\"_\", expand=True).rename(columns={0: \"compound_id\",\n",
    "                                                            1: \"dose_uM\",\n",
    "                                                            2: \"tmpt_h\",\n",
    "                                                            3: \"cell_line\"})\n",
    "    return treatment_split"
   ]
  },
  {
   "cell_type": "code",
   "execution_count": 8,
   "metadata": {},
   "outputs": [
    {
     "data": {
      "text/html": [
       "<div>\n",
       "<style scoped>\n",
       "    .dataframe tbody tr th:only-of-type {\n",
       "        vertical-align: middle;\n",
       "    }\n",
       "\n",
       "    .dataframe tbody tr th {\n",
       "        vertical-align: top;\n",
       "    }\n",
       "\n",
       "    .dataframe thead th {\n",
       "        text-align: right;\n",
       "    }\n",
       "</style>\n",
       "<table border=\"1\" class=\"dataframe\">\n",
       "  <thead>\n",
       "    <tr style=\"text-align: right;\">\n",
       "      <th></th>\n",
       "      <th>compound_id</th>\n",
       "      <th>dose_uM</th>\n",
       "      <th>tmpt_h</th>\n",
       "      <th>cell_line</th>\n",
       "    </tr>\n",
       "  </thead>\n",
       "  <tbody>\n",
       "    <tr>\n",
       "      <th>0</th>\n",
       "      <td>DMSO</td>\n",
       "      <td>0</td>\n",
       "      <td>24</td>\n",
       "      <td>ASPC1</td>\n",
       "    </tr>\n",
       "    <tr>\n",
       "      <th>1</th>\n",
       "      <td>DMSO</td>\n",
       "      <td>0</td>\n",
       "      <td>24</td>\n",
       "      <td>ASPC1</td>\n",
       "    </tr>\n",
       "    <tr>\n",
       "      <th>2</th>\n",
       "      <td>DMSO</td>\n",
       "      <td>0</td>\n",
       "      <td>24</td>\n",
       "      <td>ASPC1</td>\n",
       "    </tr>\n",
       "    <tr>\n",
       "      <th>3</th>\n",
       "      <td>DMSO</td>\n",
       "      <td>0</td>\n",
       "      <td>24</td>\n",
       "      <td>ASPC1</td>\n",
       "    </tr>\n",
       "    <tr>\n",
       "      <th>4</th>\n",
       "      <td>DMSO</td>\n",
       "      <td>0</td>\n",
       "      <td>24</td>\n",
       "      <td>ASPC1</td>\n",
       "    </tr>\n",
       "  </tbody>\n",
       "</table>\n",
       "</div>"
      ],
      "text/plain": [
       "  compound_id dose_uM tmpt_h cell_line\n",
       "0        DMSO       0     24     ASPC1\n",
       "1        DMSO       0     24     ASPC1\n",
       "2        DMSO       0     24     ASPC1\n",
       "3        DMSO       0     24     ASPC1\n",
       "4        DMSO       0     24     ASPC1"
      ]
     },
     "execution_count": 8,
     "metadata": {},
     "output_type": "execute_result"
    }
   ],
   "source": [
    "treatment_split = split_trtment_col(melted_aspc1)\n",
    "treatment_split.head()"
   ]
  },
  {
   "cell_type": "code",
   "execution_count": 9,
   "metadata": {},
   "outputs": [
    {
     "data": {
      "text/plain": [
       "array(['DMSO', 'UNTREATED', 'ICOTINIB', 'CEDIRANIB', 'QUIZARTINIB',\n",
       "       'CRIZOTINIB', 'VANDETANIB', 'AEE788', 'NILOTINIB', 'DACOMITINIB',\n",
       "       'CRENOLANIB', 'DOVITINIB', 'MGCD265', 'BAFETINIB', 'AZD5363',\n",
       "       'IMATINIB', 'GEFITINIB', 'DASATINIB', 'AFATINIB', 'SUNITINIB',\n",
       "       'PONATINIB', 'OSIMERTINIB', 'SORAFENIB', 'BOSUTINIB', 'LAPATINIB',\n",
       "       'CABOZANTINIB', 'VARLITINIB', 'LINIFANIB', 'MK2206', 'REGORAFENIB',\n",
       "       'TIVANTINIB', 'FORETINIB', 'NERATINIB', 'KW2449'], dtype=object)"
      ]
     },
     "execution_count": 9,
     "metadata": {},
     "output_type": "execute_result"
    }
   ],
   "source": [
    "treatment_split.compound_id.unique()"
   ]
  },
  {
   "cell_type": "code",
   "execution_count": null,
   "metadata": {
    "collapsed": true
   },
   "outputs": [],
   "source": [
    "treatment_split.cell_line.nunique()"
   ]
  },
  {
   "cell_type": "code",
   "execution_count": 10,
   "metadata": {},
   "outputs": [
    {
     "data": {
      "text/plain": [
       "(4294376, 4)"
      ]
     },
     "execution_count": 10,
     "metadata": {},
     "output_type": "execute_result"
    }
   ],
   "source": [
    "treatment_split.shape"
   ]
  },
  {
   "cell_type": "code",
   "execution_count": 9,
   "metadata": {},
   "outputs": [
    {
     "data": {
      "text/html": [
       "<div>\n",
       "<style scoped>\n",
       "    .dataframe tbody tr th:only-of-type {\n",
       "        vertical-align: middle;\n",
       "    }\n",
       "\n",
       "    .dataframe tbody tr th {\n",
       "        vertical-align: top;\n",
       "    }\n",
       "\n",
       "    .dataframe thead th {\n",
       "        text-align: right;\n",
       "    }\n",
       "</style>\n",
       "<table border=\"1\" class=\"dataframe\">\n",
       "  <thead>\n",
       "    <tr style=\"text-align: right;\">\n",
       "      <th></th>\n",
       "      <th>genes</th>\n",
       "      <th>treatment</th>\n",
       "      <th>norm_count</th>\n",
       "      <th>compound_id</th>\n",
       "      <th>dose_uM</th>\n",
       "      <th>tmpt_h</th>\n",
       "      <th>cell_line</th>\n",
       "    </tr>\n",
       "  </thead>\n",
       "  <tbody>\n",
       "    <tr>\n",
       "      <th>0</th>\n",
       "      <td>DDX11L1</td>\n",
       "      <td>DMSO_0_24_ASPC1</td>\n",
       "      <td>11.785438</td>\n",
       "      <td>DMSO</td>\n",
       "      <td>0</td>\n",
       "      <td>24</td>\n",
       "      <td>ASPC1</td>\n",
       "    </tr>\n",
       "    <tr>\n",
       "      <th>1</th>\n",
       "      <td>MIR6859-1</td>\n",
       "      <td>DMSO_0_24_ASPC1</td>\n",
       "      <td>11.777003</td>\n",
       "      <td>DMSO</td>\n",
       "      <td>0</td>\n",
       "      <td>24</td>\n",
       "      <td>ASPC1</td>\n",
       "    </tr>\n",
       "    <tr>\n",
       "      <th>2</th>\n",
       "      <td>MIR1302-2</td>\n",
       "      <td>DMSO_0_24_ASPC1</td>\n",
       "      <td>11.794012</td>\n",
       "      <td>DMSO</td>\n",
       "      <td>0</td>\n",
       "      <td>24</td>\n",
       "      <td>ASPC1</td>\n",
       "    </tr>\n",
       "    <tr>\n",
       "      <th>3</th>\n",
       "      <td>FAM138A</td>\n",
       "      <td>DMSO_0_24_ASPC1</td>\n",
       "      <td>11.787199</td>\n",
       "      <td>DMSO</td>\n",
       "      <td>0</td>\n",
       "      <td>24</td>\n",
       "      <td>ASPC1</td>\n",
       "    </tr>\n",
       "    <tr>\n",
       "      <th>4</th>\n",
       "      <td>OR4F5</td>\n",
       "      <td>DMSO_0_24_ASPC1</td>\n",
       "      <td>11.789625</td>\n",
       "      <td>DMSO</td>\n",
       "      <td>0</td>\n",
       "      <td>24</td>\n",
       "      <td>ASPC1</td>\n",
       "    </tr>\n",
       "  </tbody>\n",
       "</table>\n",
       "</div>"
      ],
      "text/plain": [
       "       genes        treatment  norm_count compound_id dose_uM tmpt_h cell_line\n",
       "0    DDX11L1  DMSO_0_24_ASPC1   11.785438        DMSO       0     24     ASPC1\n",
       "1  MIR6859-1  DMSO_0_24_ASPC1   11.777003        DMSO       0     24     ASPC1\n",
       "2  MIR1302-2  DMSO_0_24_ASPC1   11.794012        DMSO       0     24     ASPC1\n",
       "3    FAM138A  DMSO_0_24_ASPC1   11.787199        DMSO       0     24     ASPC1\n",
       "4      OR4F5  DMSO_0_24_ASPC1   11.789625        DMSO       0     24     ASPC1"
      ]
     },
     "execution_count": 9,
     "metadata": {},
     "output_type": "execute_result"
    }
   ],
   "source": [
    "melted_02 = melted_aspc1.join(treatment_split)\n",
    "melted_02.head()"
   ]
  },
  {
   "cell_type": "code",
   "execution_count": 10,
   "metadata": {
    "collapsed": true
   },
   "outputs": [],
   "source": [
    "def make_replicate_col(df):\n",
    "    df[\"replicate\"] = df.cell_line.str.split(\".\", expand=True)[1].fillna(0)\n",
    "    return df"
   ]
  },
  {
   "cell_type": "code",
   "execution_count": 11,
   "metadata": {},
   "outputs": [
    {
     "data": {
      "text/html": [
       "<div>\n",
       "<style scoped>\n",
       "    .dataframe tbody tr th:only-of-type {\n",
       "        vertical-align: middle;\n",
       "    }\n",
       "\n",
       "    .dataframe tbody tr th {\n",
       "        vertical-align: top;\n",
       "    }\n",
       "\n",
       "    .dataframe thead th {\n",
       "        text-align: right;\n",
       "    }\n",
       "</style>\n",
       "<table border=\"1\" class=\"dataframe\">\n",
       "  <thead>\n",
       "    <tr style=\"text-align: right;\">\n",
       "      <th></th>\n",
       "      <th>genes</th>\n",
       "      <th>treatment</th>\n",
       "      <th>norm_count</th>\n",
       "      <th>compound_id</th>\n",
       "      <th>dose_uM</th>\n",
       "      <th>tmpt_h</th>\n",
       "      <th>cell_line</th>\n",
       "      <th>replicate</th>\n",
       "    </tr>\n",
       "  </thead>\n",
       "  <tbody>\n",
       "    <tr>\n",
       "      <th>0</th>\n",
       "      <td>DDX11L1</td>\n",
       "      <td>DMSO_0_24_ASPC1</td>\n",
       "      <td>11.785438</td>\n",
       "      <td>DMSO</td>\n",
       "      <td>0</td>\n",
       "      <td>24</td>\n",
       "      <td>ASPC1</td>\n",
       "      <td>0</td>\n",
       "    </tr>\n",
       "    <tr>\n",
       "      <th>1</th>\n",
       "      <td>MIR6859-1</td>\n",
       "      <td>DMSO_0_24_ASPC1</td>\n",
       "      <td>11.777003</td>\n",
       "      <td>DMSO</td>\n",
       "      <td>0</td>\n",
       "      <td>24</td>\n",
       "      <td>ASPC1</td>\n",
       "      <td>0</td>\n",
       "    </tr>\n",
       "    <tr>\n",
       "      <th>2</th>\n",
       "      <td>MIR1302-2</td>\n",
       "      <td>DMSO_0_24_ASPC1</td>\n",
       "      <td>11.794012</td>\n",
       "      <td>DMSO</td>\n",
       "      <td>0</td>\n",
       "      <td>24</td>\n",
       "      <td>ASPC1</td>\n",
       "      <td>0</td>\n",
       "    </tr>\n",
       "    <tr>\n",
       "      <th>3</th>\n",
       "      <td>FAM138A</td>\n",
       "      <td>DMSO_0_24_ASPC1</td>\n",
       "      <td>11.787199</td>\n",
       "      <td>DMSO</td>\n",
       "      <td>0</td>\n",
       "      <td>24</td>\n",
       "      <td>ASPC1</td>\n",
       "      <td>0</td>\n",
       "    </tr>\n",
       "    <tr>\n",
       "      <th>4</th>\n",
       "      <td>OR4F5</td>\n",
       "      <td>DMSO_0_24_ASPC1</td>\n",
       "      <td>11.789625</td>\n",
       "      <td>DMSO</td>\n",
       "      <td>0</td>\n",
       "      <td>24</td>\n",
       "      <td>ASPC1</td>\n",
       "      <td>0</td>\n",
       "    </tr>\n",
       "  </tbody>\n",
       "</table>\n",
       "</div>"
      ],
      "text/plain": [
       "       genes        treatment  norm_count compound_id dose_uM tmpt_h  \\\n",
       "0    DDX11L1  DMSO_0_24_ASPC1   11.785438        DMSO       0     24   \n",
       "1  MIR6859-1  DMSO_0_24_ASPC1   11.777003        DMSO       0     24   \n",
       "2  MIR1302-2  DMSO_0_24_ASPC1   11.794012        DMSO       0     24   \n",
       "3    FAM138A  DMSO_0_24_ASPC1   11.787199        DMSO       0     24   \n",
       "4      OR4F5  DMSO_0_24_ASPC1   11.789625        DMSO       0     24   \n",
       "\n",
       "  cell_line replicate  \n",
       "0     ASPC1         0  \n",
       "1     ASPC1         0  \n",
       "2     ASPC1         0  \n",
       "3     ASPC1         0  \n",
       "4     ASPC1         0  "
      ]
     },
     "execution_count": 11,
     "metadata": {},
     "output_type": "execute_result"
    }
   ],
   "source": [
    "melted_02 = make_replicate_col(melted_02)\n",
    "melted_02.head()"
   ]
  },
  {
   "cell_type": "code",
   "execution_count": 12,
   "metadata": {},
   "outputs": [
    {
     "data": {
      "text/html": [
       "<div>\n",
       "<style scoped>\n",
       "    .dataframe tbody tr th:only-of-type {\n",
       "        vertical-align: middle;\n",
       "    }\n",
       "\n",
       "    .dataframe tbody tr th {\n",
       "        vertical-align: top;\n",
       "    }\n",
       "\n",
       "    .dataframe thead th {\n",
       "        text-align: right;\n",
       "    }\n",
       "</style>\n",
       "<table border=\"1\" class=\"dataframe\">\n",
       "  <thead>\n",
       "    <tr style=\"text-align: right;\">\n",
       "      <th></th>\n",
       "      <th>genes</th>\n",
       "      <th>treatment</th>\n",
       "      <th>norm_count</th>\n",
       "      <th>compound_id</th>\n",
       "      <th>dose_uM</th>\n",
       "      <th>tmpt_h</th>\n",
       "      <th>cell_line</th>\n",
       "      <th>replicate</th>\n",
       "    </tr>\n",
       "  </thead>\n",
       "  <tbody>\n",
       "    <tr>\n",
       "      <th>4294371</th>\n",
       "      <td>TTTY4C</td>\n",
       "      <td>UNTREATED_0_24_ASPC1.59</td>\n",
       "      <td>11.798895</td>\n",
       "      <td>UNTREATED</td>\n",
       "      <td>0</td>\n",
       "      <td>24</td>\n",
       "      <td>ASPC1.59</td>\n",
       "      <td>59</td>\n",
       "    </tr>\n",
       "    <tr>\n",
       "      <th>4294372</th>\n",
       "      <td>TTTY17C</td>\n",
       "      <td>UNTREATED_0_24_ASPC1.59</td>\n",
       "      <td>11.791547</td>\n",
       "      <td>UNTREATED</td>\n",
       "      <td>0</td>\n",
       "      <td>24</td>\n",
       "      <td>ASPC1.59</td>\n",
       "      <td>59</td>\n",
       "    </tr>\n",
       "    <tr>\n",
       "      <th>4294373</th>\n",
       "      <td>CSPG4P1Y</td>\n",
       "      <td>UNTREATED_0_24_ASPC1.59</td>\n",
       "      <td>11.776004</td>\n",
       "      <td>UNTREATED</td>\n",
       "      <td>0</td>\n",
       "      <td>24</td>\n",
       "      <td>ASPC1.59</td>\n",
       "      <td>59</td>\n",
       "    </tr>\n",
       "    <tr>\n",
       "      <th>4294374</th>\n",
       "      <td>CDY1</td>\n",
       "      <td>UNTREATED_0_24_ASPC1.59</td>\n",
       "      <td>11.789233</td>\n",
       "      <td>UNTREATED</td>\n",
       "      <td>0</td>\n",
       "      <td>24</td>\n",
       "      <td>ASPC1.59</td>\n",
       "      <td>59</td>\n",
       "    </tr>\n",
       "    <tr>\n",
       "      <th>4294375</th>\n",
       "      <td>TTTY3</td>\n",
       "      <td>UNTREATED_0_24_ASPC1.59</td>\n",
       "      <td>11.787144</td>\n",
       "      <td>UNTREATED</td>\n",
       "      <td>0</td>\n",
       "      <td>24</td>\n",
       "      <td>ASPC1.59</td>\n",
       "      <td>59</td>\n",
       "    </tr>\n",
       "  </tbody>\n",
       "</table>\n",
       "</div>"
      ],
      "text/plain": [
       "            genes                treatment  norm_count compound_id dose_uM  \\\n",
       "4294371    TTTY4C  UNTREATED_0_24_ASPC1.59   11.798895   UNTREATED       0   \n",
       "4294372   TTTY17C  UNTREATED_0_24_ASPC1.59   11.791547   UNTREATED       0   \n",
       "4294373  CSPG4P1Y  UNTREATED_0_24_ASPC1.59   11.776004   UNTREATED       0   \n",
       "4294374      CDY1  UNTREATED_0_24_ASPC1.59   11.789233   UNTREATED       0   \n",
       "4294375     TTTY3  UNTREATED_0_24_ASPC1.59   11.787144   UNTREATED       0   \n",
       "\n",
       "        tmpt_h cell_line replicate  \n",
       "4294371     24  ASPC1.59        59  \n",
       "4294372     24  ASPC1.59        59  \n",
       "4294373     24  ASPC1.59        59  \n",
       "4294374     24  ASPC1.59        59  \n",
       "4294375     24  ASPC1.59        59  "
      ]
     },
     "execution_count": 12,
     "metadata": {},
     "output_type": "execute_result"
    }
   ],
   "source": [
    "melted_02.tail()"
   ]
  },
  {
   "cell_type": "markdown",
   "metadata": {},
   "source": [
    "This table is too big and it needs to be sampled."
   ]
  },
  {
   "cell_type": "code",
   "execution_count": 13,
   "metadata": {},
   "outputs": [
    {
     "name": "stdout",
     "output_type": "stream",
     "text": [
      "2020-07-26_EDA.ipynb                \u001b[31mdrug_activity_to_inchikey.txt\u001b[m\u001b[m*\r\n",
      "\u001b[31mdata_achilles_shRNA_DREAMv2.csv\u001b[m\u001b[m*    \u001b[1m\u001b[36mrnaseq\u001b[m\u001b[m/\r\n",
      "\u001b[31mdata_ccle_RNAseq_DREAMv2_FIXED.csv\u001b[m\u001b[m* \u001b[1m\u001b[36mrnaseq_concealed\u001b[m\u001b[m/\r\n",
      "\u001b[31mdrug_activity_challenge_rnaseq.zip\u001b[m\u001b[m* \u001b[31mrnaseq_concealed.zip\u001b[m\u001b[m*\r\n",
      "\u001b[31mdrug_activity_to_inchi.txt\u001b[m\u001b[m*\r\n"
     ]
    }
   ],
   "source": [
    "ls"
   ]
  },
  {
   "cell_type": "code",
   "execution_count": 12,
   "metadata": {
    "collapsed": true
   },
   "outputs": [],
   "source": [
    "melted_02.to_csv(\"../02_Transformed_Data/2020-08-04_Melted_ASPC1.csv\", index=False)"
   ]
  },
  {
   "cell_type": "code",
   "execution_count": 9,
   "metadata": {},
   "outputs": [
    {
     "data": {
      "text/plain": [
       "(4294376, 8)"
      ]
     },
     "execution_count": 9,
     "metadata": {},
     "output_type": "execute_result"
    }
   ],
   "source": [
    "melted_02.shape"
   ]
  },
  {
   "cell_type": "code",
   "execution_count": 12,
   "metadata": {},
   "outputs": [
    {
     "data": {
      "text/html": [
       "<div>\n",
       "<style scoped>\n",
       "    .dataframe tbody tr th:only-of-type {\n",
       "        vertical-align: middle;\n",
       "    }\n",
       "\n",
       "    .dataframe tbody tr th {\n",
       "        vertical-align: top;\n",
       "    }\n",
       "\n",
       "    .dataframe thead th {\n",
       "        text-align: right;\n",
       "    }\n",
       "</style>\n",
       "<table border=\"1\" class=\"dataframe\">\n",
       "  <thead>\n",
       "    <tr style=\"text-align: right;\">\n",
       "      <th></th>\n",
       "      <th>genes</th>\n",
       "      <th>treatment</th>\n",
       "      <th>norm_count</th>\n",
       "      <th>compound_id</th>\n",
       "      <th>dose_uM</th>\n",
       "      <th>tmpt_h</th>\n",
       "      <th>cell_line</th>\n",
       "      <th>replicate</th>\n",
       "    </tr>\n",
       "  </thead>\n",
       "  <tbody>\n",
       "    <tr>\n",
       "      <th>3091948</th>\n",
       "      <td>BMS1</td>\n",
       "      <td>GEFITINIB_0.5_24_ASPC1.1</td>\n",
       "      <td>14.666120</td>\n",
       "      <td>GEFITINIB</td>\n",
       "      <td>0.5</td>\n",
       "      <td>24</td>\n",
       "      <td>ASPC1.1</td>\n",
       "      <td>1</td>\n",
       "    </tr>\n",
       "    <tr>\n",
       "      <th>410697</th>\n",
       "      <td>SPRYD4</td>\n",
       "      <td>UNTREATED_0_24_ASPC1.6</td>\n",
       "      <td>15.702338</td>\n",
       "      <td>UNTREATED</td>\n",
       "      <td>0</td>\n",
       "      <td>24</td>\n",
       "      <td>ASPC1.6</td>\n",
       "      <td>6</td>\n",
       "    </tr>\n",
       "    <tr>\n",
       "      <th>2179601</th>\n",
       "      <td>TAS2R5</td>\n",
       "      <td>DMSO_0_24_ASPC1.31</td>\n",
       "      <td>11.779345</td>\n",
       "      <td>DMSO</td>\n",
       "      <td>0</td>\n",
       "      <td>24</td>\n",
       "      <td>ASPC1.31</td>\n",
       "      <td>31</td>\n",
       "    </tr>\n",
       "    <tr>\n",
       "      <th>713081</th>\n",
       "      <td>LRRC32</td>\n",
       "      <td>DMSO_0_24_ASPC1.11</td>\n",
       "      <td>11.918707</td>\n",
       "      <td>DMSO</td>\n",
       "      <td>0</td>\n",
       "      <td>24</td>\n",
       "      <td>ASPC1.11</td>\n",
       "      <td>11</td>\n",
       "    </tr>\n",
       "    <tr>\n",
       "      <th>1898581</th>\n",
       "      <td>PLG</td>\n",
       "      <td>DMSO_0_24_ASPC1.25</td>\n",
       "      <td>11.784300</td>\n",
       "      <td>DMSO</td>\n",
       "      <td>0</td>\n",
       "      <td>24</td>\n",
       "      <td>ASPC1.25</td>\n",
       "      <td>25</td>\n",
       "    </tr>\n",
       "  </tbody>\n",
       "</table>\n",
       "</div>"
      ],
      "text/plain": [
       "          genes                 treatment  norm_count compound_id dose_uM  \\\n",
       "3091948    BMS1  GEFITINIB_0.5_24_ASPC1.1   14.666120   GEFITINIB     0.5   \n",
       "410697   SPRYD4    UNTREATED_0_24_ASPC1.6   15.702338   UNTREATED       0   \n",
       "2179601  TAS2R5        DMSO_0_24_ASPC1.31   11.779345        DMSO       0   \n",
       "713081   LRRC32        DMSO_0_24_ASPC1.11   11.918707        DMSO       0   \n",
       "1898581     PLG        DMSO_0_24_ASPC1.25   11.784300        DMSO       0   \n",
       "\n",
       "        tmpt_h cell_line replicate  \n",
       "3091948     24   ASPC1.1         1  \n",
       "410697      24   ASPC1.6         6  \n",
       "2179601     24  ASPC1.31        31  \n",
       "713081      24  ASPC1.11        11  \n",
       "1898581     24  ASPC1.25        25  "
      ]
     },
     "execution_count": 12,
     "metadata": {},
     "output_type": "execute_result"
    }
   ],
   "source": [
    "small_melt = melted_02.sample(frac=0.2, random_state=1)\n",
    "small_melt.head()"
   ]
  },
  {
   "cell_type": "code",
   "execution_count": 13,
   "metadata": {},
   "outputs": [
    {
     "data": {
      "text/plain": [
       "(858875, 8)"
      ]
     },
     "execution_count": 13,
     "metadata": {},
     "output_type": "execute_result"
    }
   ],
   "source": [
    "small_melt.shape"
   ]
  },
  {
   "cell_type": "code",
   "execution_count": 14,
   "metadata": {},
   "outputs": [
    {
     "data": {
      "text/html": [
       "<div>\n",
       "<style scoped>\n",
       "    .dataframe tbody tr th:only-of-type {\n",
       "        vertical-align: middle;\n",
       "    }\n",
       "\n",
       "    .dataframe tbody tr th {\n",
       "        vertical-align: top;\n",
       "    }\n",
       "\n",
       "    .dataframe thead th {\n",
       "        text-align: right;\n",
       "    }\n",
       "</style>\n",
       "<table border=\"1\" class=\"dataframe\">\n",
       "  <thead>\n",
       "    <tr style=\"text-align: right;\">\n",
       "      <th></th>\n",
       "      <th>norm_count</th>\n",
       "    </tr>\n",
       "  </thead>\n",
       "  <tbody>\n",
       "    <tr>\n",
       "      <th>count</th>\n",
       "      <td>858875.000000</td>\n",
       "    </tr>\n",
       "    <tr>\n",
       "      <th>mean</th>\n",
       "      <td>13.253697</td>\n",
       "    </tr>\n",
       "    <tr>\n",
       "      <th>std</th>\n",
       "      <td>1.777788</td>\n",
       "    </tr>\n",
       "    <tr>\n",
       "      <th>min</th>\n",
       "      <td>11.655529</td>\n",
       "    </tr>\n",
       "    <tr>\n",
       "      <th>25%</th>\n",
       "      <td>11.855403</td>\n",
       "    </tr>\n",
       "    <tr>\n",
       "      <th>50%</th>\n",
       "      <td>12.408325</td>\n",
       "    </tr>\n",
       "    <tr>\n",
       "      <th>75%</th>\n",
       "      <td>14.279028</td>\n",
       "    </tr>\n",
       "    <tr>\n",
       "      <th>max</th>\n",
       "      <td>24.791059</td>\n",
       "    </tr>\n",
       "  </tbody>\n",
       "</table>\n",
       "</div>"
      ],
      "text/plain": [
       "          norm_count\n",
       "count  858875.000000\n",
       "mean       13.253697\n",
       "std         1.777788\n",
       "min        11.655529\n",
       "25%        11.855403\n",
       "50%        12.408325\n",
       "75%        14.279028\n",
       "max        24.791059"
      ]
     },
     "execution_count": 14,
     "metadata": {},
     "output_type": "execute_result"
    }
   ],
   "source": [
    "small_melt.describe()"
   ]
  },
  {
   "cell_type": "code",
   "execution_count": 15,
   "metadata": {},
   "outputs": [
    {
     "name": "stdout",
     "output_type": "stream",
     "text": [
      "<class 'pandas.core.frame.DataFrame'>\n",
      "Int64Index: 858875 entries, 3091948 to 2400382\n",
      "Data columns (total 8 columns):\n",
      " #   Column       Non-Null Count   Dtype  \n",
      "---  ------       --------------   -----  \n",
      " 0   genes        858875 non-null  object \n",
      " 1   treatment    858875 non-null  object \n",
      " 2   norm_count   858875 non-null  float64\n",
      " 3   compound_id  858875 non-null  object \n",
      " 4   dose_uM      858875 non-null  object \n",
      " 5   tmpt_h       858875 non-null  object \n",
      " 6   cell_line    858875 non-null  object \n",
      " 7   replicate    858875 non-null  object \n",
      "dtypes: float64(1), object(7)\n",
      "memory usage: 59.0+ MB\n"
     ]
    }
   ],
   "source": [
    "small_melt.info()"
   ]
  },
  {
   "cell_type": "code",
   "execution_count": 19,
   "metadata": {
    "collapsed": true
   },
   "outputs": [],
   "source": [
    "# Convert dose_uM, tmpt_h into int\n",
    "small_melt.dose_uM_uM, small_melt.tmpt_h = small_melt.dose_uM.astype(float), small_melt.tmpt_h.astype(int)"
   ]
  },
  {
   "cell_type": "code",
   "execution_count": 20,
   "metadata": {},
   "outputs": [
    {
     "name": "stdout",
     "output_type": "stream",
     "text": [
      "<class 'pandas.core.frame.DataFrame'>\n",
      "Int64Index: 858875 entries, 3091948 to 2400382\n",
      "Data columns (total 8 columns):\n",
      " #   Column       Non-Null Count   Dtype  \n",
      "---  ------       --------------   -----  \n",
      " 0   genes        858875 non-null  object \n",
      " 1   treatment    858875 non-null  object \n",
      " 2   norm_count   858875 non-null  float64\n",
      " 3   compound_id  858875 non-null  object \n",
      " 4   dose_uM      858875 non-null  float64\n",
      " 5   tmpt_h       858875 non-null  int64  \n",
      " 6   cell_line    858875 non-null  object \n",
      " 7   replicate    858875 non-null  object \n",
      "dtypes: float64(2), int64(1), object(5)\n",
      "memory usage: 99.0+ MB\n"
     ]
    }
   ],
   "source": [
    "small_melt.info()"
   ]
  },
  {
   "cell_type": "code",
   "execution_count": 21,
   "metadata": {},
   "outputs": [
    {
     "data": {
      "text/html": [
       "<div>\n",
       "<style scoped>\n",
       "    .dataframe tbody tr th:only-of-type {\n",
       "        vertical-align: middle;\n",
       "    }\n",
       "\n",
       "    .dataframe tbody tr th {\n",
       "        vertical-align: top;\n",
       "    }\n",
       "\n",
       "    .dataframe thead th {\n",
       "        text-align: right;\n",
       "    }\n",
       "</style>\n",
       "<table border=\"1\" class=\"dataframe\">\n",
       "  <thead>\n",
       "    <tr style=\"text-align: right;\">\n",
       "      <th></th>\n",
       "      <th>genes</th>\n",
       "      <th>treatment</th>\n",
       "      <th>norm_count</th>\n",
       "      <th>compound_id</th>\n",
       "      <th>dose_uM</th>\n",
       "      <th>tmpt_h</th>\n",
       "      <th>cell_line</th>\n",
       "      <th>replicate</th>\n",
       "    </tr>\n",
       "  </thead>\n",
       "  <tbody>\n",
       "    <tr>\n",
       "      <th>468075</th>\n",
       "      <td>MIR6077</td>\n",
       "      <td>UNTREATED_0_24_ASPC1.7</td>\n",
       "      <td>11.801033</td>\n",
       "      <td>UNTREATED</td>\n",
       "      <td>0.000</td>\n",
       "      <td>24</td>\n",
       "      <td>ASPC1.7</td>\n",
       "      <td>7</td>\n",
       "    </tr>\n",
       "    <tr>\n",
       "      <th>292669</th>\n",
       "      <td>TMEM223</td>\n",
       "      <td>DMSO_0_24_ASPC1.6</td>\n",
       "      <td>14.812045</td>\n",
       "      <td>DMSO</td>\n",
       "      <td>0.000</td>\n",
       "      <td>24</td>\n",
       "      <td>ASPC1.6</td>\n",
       "      <td>6</td>\n",
       "    </tr>\n",
       "    <tr>\n",
       "      <th>2775175</th>\n",
       "      <td>SDC4</td>\n",
       "      <td>NILOTINIB_0.335_24_ASPC1.1</td>\n",
       "      <td>15.631452</td>\n",
       "      <td>NILOTINIB</td>\n",
       "      <td>0.335</td>\n",
       "      <td>24</td>\n",
       "      <td>ASPC1.1</td>\n",
       "      <td>1</td>\n",
       "    </tr>\n",
       "    <tr>\n",
       "      <th>1094090</th>\n",
       "      <td>ERVV-1</td>\n",
       "      <td>UNTREATED_0_24_ASPC1.14</td>\n",
       "      <td>11.829442</td>\n",
       "      <td>UNTREATED</td>\n",
       "      <td>0.000</td>\n",
       "      <td>24</td>\n",
       "      <td>ASPC1.14</td>\n",
       "      <td>14</td>\n",
       "    </tr>\n",
       "    <tr>\n",
       "      <th>2400382</th>\n",
       "      <td>ZNF431</td>\n",
       "      <td>UNTREATED_0_24_ASPC1.34</td>\n",
       "      <td>14.383492</td>\n",
       "      <td>UNTREATED</td>\n",
       "      <td>0.000</td>\n",
       "      <td>24</td>\n",
       "      <td>ASPC1.34</td>\n",
       "      <td>34</td>\n",
       "    </tr>\n",
       "  </tbody>\n",
       "</table>\n",
       "</div>"
      ],
      "text/plain": [
       "           genes                   treatment  norm_count compound_id  dose_uM  \\\n",
       "468075   MIR6077      UNTREATED_0_24_ASPC1.7   11.801033   UNTREATED    0.000   \n",
       "292669   TMEM223           DMSO_0_24_ASPC1.6   14.812045        DMSO    0.000   \n",
       "2775175     SDC4  NILOTINIB_0.335_24_ASPC1.1   15.631452   NILOTINIB    0.335   \n",
       "1094090   ERVV-1     UNTREATED_0_24_ASPC1.14   11.829442   UNTREATED    0.000   \n",
       "2400382   ZNF431     UNTREATED_0_24_ASPC1.34   14.383492   UNTREATED    0.000   \n",
       "\n",
       "         tmpt_h cell_line replicate  \n",
       "468075       24   ASPC1.7         7  \n",
       "292669       24   ASPC1.6         6  \n",
       "2775175      24   ASPC1.1         1  \n",
       "1094090      24  ASPC1.14        14  \n",
       "2400382      24  ASPC1.34        34  "
      ]
     },
     "execution_count": 21,
     "metadata": {},
     "output_type": "execute_result"
    }
   ],
   "source": [
    "small_melt.tail()"
   ]
  },
  {
   "cell_type": "code",
   "execution_count": 27,
   "metadata": {},
   "outputs": [
    {
     "data": {
      "text/plain": [
       "array(['GEFITINIB', 'UNTREATED', 'DMSO', 'NILOTINIB', 'BAFETINIB',\n",
       "       'REGORAFENIB', 'MGCD265', 'VANDETANIB', 'DASATINIB', 'MK2206',\n",
       "       'QUIZARTINIB', 'FORETINIB', 'PONATINIB', 'OSIMERTINIB', 'AFATINIB',\n",
       "       'DOVITINIB', 'CRENOLANIB', 'AZD5363', 'TIVANTINIB', 'LAPATINIB',\n",
       "       'SUNITINIB', 'BOSUTINIB', 'ICOTINIB', 'AEE788', 'CEDIRANIB',\n",
       "       'DACOMITINIB', 'NERATINIB', 'SORAFENIB', 'IMATINIB', 'KW2449',\n",
       "       'CABOZANTINIB', 'VARLITINIB', 'CRIZOTINIB', 'LINIFANIB'],\n",
       "      dtype=object)"
      ]
     },
     "execution_count": 27,
     "metadata": {},
     "output_type": "execute_result"
    }
   ],
   "source": [
    "# small_melt.groupby([\"compound_id\"]).agg({\"norm_count\":np.median})\n",
    "small_melt.compound_id.unique()"
   ]
  },
  {
   "cell_type": "code",
   "execution_count": 32,
   "metadata": {},
   "outputs": [
    {
     "data": {
      "text/plain": [
       "60"
      ]
     },
     "execution_count": 32,
     "metadata": {},
     "output_type": "execute_result"
    }
   ],
   "source": [
    "small_melt.cell_line.nunique()"
   ]
  },
  {
   "cell_type": "code",
   "execution_count": 33,
   "metadata": {},
   "outputs": [
    {
     "data": {
      "text/plain": [
       "array(['ASPC1.1', 'ASPC1.6', 'ASPC1.31', 'ASPC1.11', 'ASPC1.25',\n",
       "       'ASPC1.20', 'ASPC1.59', 'ASPC1.38', 'ASPC1.26', 'ASPC1.46',\n",
       "       'ASPC1', 'ASPC1.5', 'ASPC1.33', 'ASPC1.54', 'ASPC1.4', 'ASPC1.57',\n",
       "       'ASPC1.22', 'ASPC1.9', 'ASPC1.14', 'ASPC1.32', 'ASPC1.50',\n",
       "       'ASPC1.39', 'ASPC1.40', 'ASPC1.49', 'ASPC1.34', 'ASPC1.3',\n",
       "       'ASPC1.48', 'ASPC1.16', 'ASPC1.45', 'ASPC1.51', 'ASPC1.35',\n",
       "       'ASPC1.23', 'ASPC1.24', 'ASPC1.19', 'ASPC1.21', 'ASPC1.17',\n",
       "       'ASPC1.13', 'ASPC1.56', 'ASPC1.2', 'ASPC1.37', 'ASPC1.53',\n",
       "       'ASPC1.41', 'ASPC1.44', 'ASPC1.29', 'ASPC1.12', 'ASPC1.7',\n",
       "       'ASPC1.27', 'ASPC1.10', 'ASPC1.30', 'ASPC1.52', 'ASPC1.28',\n",
       "       'ASPC1.18', 'ASPC1.8', 'ASPC1.42', 'ASPC1.55', 'ASPC1.15',\n",
       "       'ASPC1.43', 'ASPC1.47', 'ASPC1.58', 'ASPC1.36'], dtype=object)"
      ]
     },
     "execution_count": 33,
     "metadata": {},
     "output_type": "execute_result"
    }
   ],
   "source": [
    "small_melt.cell_line.unique()"
   ]
  },
  {
   "cell_type": "code",
   "execution_count": null,
   "metadata": {
    "collapsed": true
   },
   "outputs": [],
   "source": []
  },
  {
   "cell_type": "code",
   "execution_count": 30,
   "metadata": {},
   "outputs": [
    {
     "data": {
      "image/png": "[encoded data removed]",
      "text/plain": [
       "<Figure size 432x288 with 1 Axes>"
      ]
     },
     "metadata": {},
     "output_type": "display_data"
    }
   ],
   "source": [
    "sns.distplot(small_melt.norm_count, kde=False);\n",
    "plt.title(\"Distribution norm_count\");"
   ]
  },
  {
   "cell_type": "code",
   "execution_count": 31,
   "metadata": {},
   "outputs": [
    {
     "data": {
      "image/png": "[encoded data removed]",
      "text/plain": [
       "<Figure size 432x288 with 1 Axes>"
      ]
     },
     "metadata": {},
     "output_type": "display_data"
    }
   ],
   "source": [
    "sns.distplot(small_melt.dose_uM, kde=False);\n",
    "plt.title(\"Distribution dose_uM\");"
   ]
  },
  {
   "cell_type": "markdown",
   "metadata": {
    "collapsed": true
   },
   "source": [
    "### What is the difference between the dex and untreated?"
   ]
  },
  {
   "cell_type": "code",
   "execution_count": 2,
   "metadata": {},
   "outputs": [
    {
     "data": {
      "text/html": [
       "<div>\n",
       "<style scoped>\n",
       "    .dataframe tbody tr th:only-of-type {\n",
       "        vertical-align: middle;\n",
       "    }\n",
       "\n",
       "    .dataframe tbody tr th {\n",
       "        vertical-align: top;\n",
       "    }\n",
       "\n",
       "    .dataframe thead th {\n",
       "        text-align: right;\n",
       "    }\n",
       "</style>\n",
       "<table border=\"1\" class=\"dataframe\">\n",
       "  <thead>\n",
       "    <tr style=\"text-align: right;\">\n",
       "      <th></th>\n",
       "      <th>genes</th>\n",
       "      <th>treatment</th>\n",
       "      <th>norm_count</th>\n",
       "      <th>compound_id</th>\n",
       "      <th>dose_uM</th>\n",
       "      <th>tmpt_h</th>\n",
       "      <th>cell_line</th>\n",
       "      <th>replicate</th>\n",
       "    </tr>\n",
       "  </thead>\n",
       "  <tbody>\n",
       "    <tr>\n",
       "      <th>0</th>\n",
       "      <td>DDX11L1</td>\n",
       "      <td>DMSO_0_24_ASPC1</td>\n",
       "      <td>11.785438</td>\n",
       "      <td>DMSO</td>\n",
       "      <td>0.0</td>\n",
       "      <td>24</td>\n",
       "      <td>ASPC1</td>\n",
       "      <td>0</td>\n",
       "    </tr>\n",
       "    <tr>\n",
       "      <th>1</th>\n",
       "      <td>MIR6859-1</td>\n",
       "      <td>DMSO_0_24_ASPC1</td>\n",
       "      <td>11.777003</td>\n",
       "      <td>DMSO</td>\n",
       "      <td>0.0</td>\n",
       "      <td>24</td>\n",
       "      <td>ASPC1</td>\n",
       "      <td>0</td>\n",
       "    </tr>\n",
       "    <tr>\n",
       "      <th>2</th>\n",
       "      <td>MIR1302-2</td>\n",
       "      <td>DMSO_0_24_ASPC1</td>\n",
       "      <td>11.794012</td>\n",
       "      <td>DMSO</td>\n",
       "      <td>0.0</td>\n",
       "      <td>24</td>\n",
       "      <td>ASPC1</td>\n",
       "      <td>0</td>\n",
       "    </tr>\n",
       "    <tr>\n",
       "      <th>3</th>\n",
       "      <td>FAM138A</td>\n",
       "      <td>DMSO_0_24_ASPC1</td>\n",
       "      <td>11.787199</td>\n",
       "      <td>DMSO</td>\n",
       "      <td>0.0</td>\n",
       "      <td>24</td>\n",
       "      <td>ASPC1</td>\n",
       "      <td>0</td>\n",
       "    </tr>\n",
       "    <tr>\n",
       "      <th>4</th>\n",
       "      <td>OR4F5</td>\n",
       "      <td>DMSO_0_24_ASPC1</td>\n",
       "      <td>11.789625</td>\n",
       "      <td>DMSO</td>\n",
       "      <td>0.0</td>\n",
       "      <td>24</td>\n",
       "      <td>ASPC1</td>\n",
       "      <td>0</td>\n",
       "    </tr>\n",
       "  </tbody>\n",
       "</table>\n",
       "</div>"
      ],
      "text/plain": [
       "       genes        treatment  norm_count compound_id  dose_uM  tmpt_h  \\\n",
       "0    DDX11L1  DMSO_0_24_ASPC1   11.785438        DMSO      0.0      24   \n",
       "1  MIR6859-1  DMSO_0_24_ASPC1   11.777003        DMSO      0.0      24   \n",
       "2  MIR1302-2  DMSO_0_24_ASPC1   11.794012        DMSO      0.0      24   \n",
       "3    FAM138A  DMSO_0_24_ASPC1   11.787199        DMSO      0.0      24   \n",
       "4      OR4F5  DMSO_0_24_ASPC1   11.789625        DMSO      0.0      24   \n",
       "\n",
       "  cell_line  replicate  \n",
       "0     ASPC1          0  \n",
       "1     ASPC1          0  \n",
       "2     ASPC1          0  \n",
       "3     ASPC1          0  \n",
       "4     ASPC1          0  "
      ]
     },
     "execution_count": 2,
     "metadata": {},
     "output_type": "execute_result"
    }
   ],
   "source": [
    "melted_02 = pd.read_csv(\"../02_Transformed_Data/2020-08-04_Melted_ASPC1.csv\")\n",
    "melted_02.head()"
   ]
  },
  {
   "cell_type": "code",
   "execution_count": 3,
   "metadata": {},
   "outputs": [
    {
     "data": {
      "text/html": [
       "<div>\n",
       "<style scoped>\n",
       "    .dataframe tbody tr th:only-of-type {\n",
       "        vertical-align: middle;\n",
       "    }\n",
       "\n",
       "    .dataframe tbody tr th {\n",
       "        vertical-align: top;\n",
       "    }\n",
       "\n",
       "    .dataframe thead th {\n",
       "        text-align: right;\n",
       "    }\n",
       "</style>\n",
       "<table border=\"1\" class=\"dataframe\">\n",
       "  <thead>\n",
       "    <tr style=\"text-align: right;\">\n",
       "      <th></th>\n",
       "      <th>genes</th>\n",
       "      <th>treatment</th>\n",
       "      <th>norm_count</th>\n",
       "      <th>compound_id</th>\n",
       "      <th>dose_uM</th>\n",
       "      <th>tmpt_h</th>\n",
       "      <th>cell_line</th>\n",
       "      <th>replicate</th>\n",
       "    </tr>\n",
       "  </thead>\n",
       "  <tbody>\n",
       "    <tr>\n",
       "      <th>0</th>\n",
       "      <td>DDX11L1</td>\n",
       "      <td>DMSO_0_24_ASPC1</td>\n",
       "      <td>11.785438</td>\n",
       "      <td>DMSO</td>\n",
       "      <td>0.0</td>\n",
       "      <td>24</td>\n",
       "      <td>ASPC1</td>\n",
       "      <td>0</td>\n",
       "    </tr>\n",
       "    <tr>\n",
       "      <th>1</th>\n",
       "      <td>MIR6859-1</td>\n",
       "      <td>DMSO_0_24_ASPC1</td>\n",
       "      <td>11.777003</td>\n",
       "      <td>DMSO</td>\n",
       "      <td>0.0</td>\n",
       "      <td>24</td>\n",
       "      <td>ASPC1</td>\n",
       "      <td>0</td>\n",
       "    </tr>\n",
       "    <tr>\n",
       "      <th>2</th>\n",
       "      <td>MIR1302-2</td>\n",
       "      <td>DMSO_0_24_ASPC1</td>\n",
       "      <td>11.794012</td>\n",
       "      <td>DMSO</td>\n",
       "      <td>0.0</td>\n",
       "      <td>24</td>\n",
       "      <td>ASPC1</td>\n",
       "      <td>0</td>\n",
       "    </tr>\n",
       "    <tr>\n",
       "      <th>3</th>\n",
       "      <td>FAM138A</td>\n",
       "      <td>DMSO_0_24_ASPC1</td>\n",
       "      <td>11.787199</td>\n",
       "      <td>DMSO</td>\n",
       "      <td>0.0</td>\n",
       "      <td>24</td>\n",
       "      <td>ASPC1</td>\n",
       "      <td>0</td>\n",
       "    </tr>\n",
       "    <tr>\n",
       "      <th>4</th>\n",
       "      <td>OR4F5</td>\n",
       "      <td>DMSO_0_24_ASPC1</td>\n",
       "      <td>11.789625</td>\n",
       "      <td>DMSO</td>\n",
       "      <td>0.0</td>\n",
       "      <td>24</td>\n",
       "      <td>ASPC1</td>\n",
       "      <td>0</td>\n",
       "    </tr>\n",
       "  </tbody>\n",
       "</table>\n",
       "</div>"
      ],
      "text/plain": [
       "       genes        treatment  norm_count compound_id  dose_uM  tmpt_h  \\\n",
       "0    DDX11L1  DMSO_0_24_ASPC1   11.785438        DMSO      0.0      24   \n",
       "1  MIR6859-1  DMSO_0_24_ASPC1   11.777003        DMSO      0.0      24   \n",
       "2  MIR1302-2  DMSO_0_24_ASPC1   11.794012        DMSO      0.0      24   \n",
       "3    FAM138A  DMSO_0_24_ASPC1   11.787199        DMSO      0.0      24   \n",
       "4      OR4F5  DMSO_0_24_ASPC1   11.789625        DMSO      0.0      24   \n",
       "\n",
       "  cell_line  replicate  \n",
       "0     ASPC1          0  \n",
       "1     ASPC1          0  \n",
       "2     ASPC1          0  \n",
       "3     ASPC1          0  \n",
       "4     ASPC1          0  "
      ]
     },
     "execution_count": 3,
     "metadata": {},
     "output_type": "execute_result"
    }
   ],
   "source": [
    "dmso_untrt = melted_02[melted_02.compound_id.isin([\"DMSO\", \"UNTREATED\"])]\n",
    "dmso_untrt.head()"
   ]
  },
  {
   "cell_type": "code",
   "execution_count": null,
   "metadata": {
    "collapsed": true
   },
   "outputs": [],
   "source": []
  },
  {
   "cell_type": "code",
   "execution_count": 18,
   "metadata": {},
   "outputs": [
    {
     "data": {
      "text/plain": [
       "(2800680, 8)"
      ]
     },
     "execution_count": 18,
     "metadata": {},
     "output_type": "execute_result"
    }
   ],
   "source": [
    "dmso_untrt.shape"
   ]
  },
  {
   "cell_type": "code",
   "execution_count": 19,
   "metadata": {},
   "outputs": [
    {
     "data": {
      "image/png": "[encoded data removed]",
      "text/plain": [
       "<Figure size 432x288 with 1 Axes>"
      ]
     },
     "metadata": {},
     "output_type": "display_data"
    }
   ],
   "source": [
    "sns.boxplot(x=\"compound_id\", y=\"norm_count\", data=dmso_untrt);\n",
    "plt.xticks(rotation=90);"
   ]
  },
  {
   "cell_type": "code",
   "execution_count": 23,
   "metadata": {},
   "outputs": [
    {
     "data": {
      "image/png": "[encoded data removed]",
      "text/plain": [
       "<Figure size 432x216 with 2 Axes>"
      ]
     },
     "metadata": {},
     "output_type": "display_data"
    }
   ],
   "source": [
    "a = sns.FacetGrid(data=dmso_untrt, col=\"compound_id\");\n",
    "a = a.map(plt.hist, \"norm_count\");\n"
   ]
  },
  {
   "cell_type": "markdown",
   "metadata": {},
   "source": [
    "What are the genes wich are giving over 17% reads for DMSO and untreated?"
   ]
  },
  {
   "cell_type": "code",
   "execution_count": 14,
   "metadata": {
    "collapsed": true
   },
   "outputs": [],
   "source": [
    "unique_genes_dmso_above17 = dmso_untrt.query(\"compound_id == 'DMSO' & norm_count > 17\").genes\n",
    "unique_genes_untrt_above17 = dmso_untrt.query(\"compound_id == 'UNTREATED' & norm_count > 17\").genes\n"
   ]
  },
  {
   "cell_type": "code",
   "execution_count": null,
   "metadata": {
    "collapsed": true
   },
   "outputs": [],
   "source": []
  },
  {
   "cell_type": "code",
   "execution_count": 15,
   "metadata": {},
   "outputs": [
    {
     "data": {
      "text/plain": [
       "1744"
      ]
     },
     "execution_count": 15,
     "metadata": {},
     "output_type": "execute_result"
    }
   ],
   "source": [
    "len(set(unique_genes_dmso_above17))"
   ]
  },
  {
   "cell_type": "code",
   "execution_count": 16,
   "metadata": {},
   "outputs": [
    {
     "data": {
      "text/plain": [
       "1720"
      ]
     },
     "execution_count": 16,
     "metadata": {},
     "output_type": "execute_result"
    }
   ],
   "source": [
    "len(set(unique_genes_untrt_above17))"
   ]
  },
  {
   "cell_type": "code",
   "execution_count": 17,
   "metadata": {},
   "outputs": [
    {
     "data": {
      "text/plain": [
       "1600"
      ]
     },
     "execution_count": 17,
     "metadata": {},
     "output_type": "execute_result"
    }
   ],
   "source": [
    "len(list(set(unique_genes_dmso_above17).intersection(set(unique_genes_untrt_above17))))"
   ]
  },
  {
   "cell_type": "markdown",
   "metadata": {},
   "source": [
    "We need to check the intersection between the genes expressed under dmso\n",
    "and untreatment treatments"
   ]
  },
  {
   "cell_type": "code",
   "execution_count": 18,
   "metadata": {},
   "outputs": [
    {
     "data": {
      "text/html": [
       "<div>\n",
       "<style scoped>\n",
       "    .dataframe tbody tr th:only-of-type {\n",
       "        vertical-align: middle;\n",
       "    }\n",
       "\n",
       "    .dataframe tbody tr th {\n",
       "        vertical-align: top;\n",
       "    }\n",
       "\n",
       "    .dataframe thead th {\n",
       "        text-align: right;\n",
       "    }\n",
       "</style>\n",
       "<table border=\"1\" class=\"dataframe\">\n",
       "  <thead>\n",
       "    <tr style=\"text-align: right;\">\n",
       "      <th></th>\n",
       "      <th>genes</th>\n",
       "      <th>treatment</th>\n",
       "      <th>norm_count</th>\n",
       "      <th>compound_id</th>\n",
       "      <th>dose_uM</th>\n",
       "      <th>tmpt_h</th>\n",
       "      <th>cell_line</th>\n",
       "      <th>replicate</th>\n",
       "    </tr>\n",
       "  </thead>\n",
       "  <tbody>\n",
       "    <tr>\n",
       "      <th>0</th>\n",
       "      <td>DDX11L1</td>\n",
       "      <td>DMSO_0_24_ASPC1</td>\n",
       "      <td>11.785438</td>\n",
       "      <td>DMSO</td>\n",
       "      <td>0</td>\n",
       "      <td>24</td>\n",
       "      <td>ASPC1</td>\n",
       "      <td>0</td>\n",
       "    </tr>\n",
       "    <tr>\n",
       "      <th>1</th>\n",
       "      <td>MIR6859-1</td>\n",
       "      <td>DMSO_0_24_ASPC1</td>\n",
       "      <td>11.777003</td>\n",
       "      <td>DMSO</td>\n",
       "      <td>0</td>\n",
       "      <td>24</td>\n",
       "      <td>ASPC1</td>\n",
       "      <td>0</td>\n",
       "    </tr>\n",
       "    <tr>\n",
       "      <th>2</th>\n",
       "      <td>MIR1302-2</td>\n",
       "      <td>DMSO_0_24_ASPC1</td>\n",
       "      <td>11.794012</td>\n",
       "      <td>DMSO</td>\n",
       "      <td>0</td>\n",
       "      <td>24</td>\n",
       "      <td>ASPC1</td>\n",
       "      <td>0</td>\n",
       "    </tr>\n",
       "    <tr>\n",
       "      <th>3</th>\n",
       "      <td>FAM138A</td>\n",
       "      <td>DMSO_0_24_ASPC1</td>\n",
       "      <td>11.787199</td>\n",
       "      <td>DMSO</td>\n",
       "      <td>0</td>\n",
       "      <td>24</td>\n",
       "      <td>ASPC1</td>\n",
       "      <td>0</td>\n",
       "    </tr>\n",
       "    <tr>\n",
       "      <th>4</th>\n",
       "      <td>OR4F5</td>\n",
       "      <td>DMSO_0_24_ASPC1</td>\n",
       "      <td>11.789625</td>\n",
       "      <td>DMSO</td>\n",
       "      <td>0</td>\n",
       "      <td>24</td>\n",
       "      <td>ASPC1</td>\n",
       "      <td>0</td>\n",
       "    </tr>\n",
       "  </tbody>\n",
       "</table>\n",
       "</div>"
      ],
      "text/plain": [
       "       genes        treatment  norm_count compound_id dose_uM tmpt_h  \\\n",
       "0    DDX11L1  DMSO_0_24_ASPC1   11.785438        DMSO       0     24   \n",
       "1  MIR6859-1  DMSO_0_24_ASPC1   11.777003        DMSO       0     24   \n",
       "2  MIR1302-2  DMSO_0_24_ASPC1   11.794012        DMSO       0     24   \n",
       "3    FAM138A  DMSO_0_24_ASPC1   11.787199        DMSO       0     24   \n",
       "4      OR4F5  DMSO_0_24_ASPC1   11.789625        DMSO       0     24   \n",
       "\n",
       "  cell_line replicate  \n",
       "0     ASPC1         0  \n",
       "1     ASPC1         0  \n",
       "2     ASPC1         0  \n",
       "3     ASPC1         0  \n",
       "4     ASPC1         0  "
      ]
     },
     "execution_count": 18,
     "metadata": {},
     "output_type": "execute_result"
    }
   ],
   "source": [
    "dmso_untrt_below17 = dmso_untrt.query(\"norm_count < 17\")\n",
    "dmso_untrt_below17.head()"
   ]
  },
  {
   "cell_type": "code",
   "execution_count": 41,
   "metadata": {},
   "outputs": [
    {
     "data": {
      "image/png": "[encoded data removed]",
      "text/plain": [
       "<Figure size 432x216 with 2 Axes>"
      ]
     },
     "metadata": {},
     "output_type": "display_data"
    }
   ],
   "source": [
    "b = sns.FacetGrid(data=dmso_untrt_below17, col=\"compound_id\")\n",
    "b = b.map(plt.hist, \"norm_count\")"
   ]
  },
  {
   "cell_type": "code",
   "execution_count": 43,
   "metadata": {},
   "outputs": [
    {
     "data": {
      "text/plain": [
       "22759"
      ]
     },
     "execution_count": 43,
     "metadata": {},
     "output_type": "execute_result"
    }
   ],
   "source": [
    "dmso_untrt_below17.query(\"compound_id == 'DMSO'\").genes.nunique()"
   ]
  },
  {
   "cell_type": "code",
   "execution_count": 44,
   "metadata": {},
   "outputs": [
    {
     "data": {
      "text/plain": [
       "22762"
      ]
     },
     "execution_count": 44,
     "metadata": {},
     "output_type": "execute_result"
    }
   ],
   "source": [
    "dmso_untrt_below17.query(\"compound_id == 'UNTREATED'\").genes.nunique()"
   ]
  },
  {
   "cell_type": "code",
   "execution_count": 46,
   "metadata": {
    "collapsed": true
   },
   "outputs": [],
   "source": [
    "unique_g_dmso_below17 = dmso_untrt_below17.query(\"compound_id == 'DMSO'\").genes\n",
    "unique_g_untrt_below17 = dmso_untrt_below17.query(\"compound_id == 'UNTREATED'\").genes"
   ]
  },
  {
   "cell_type": "code",
   "execution_count": 47,
   "metadata": {},
   "outputs": [
    {
     "data": {
      "text/plain": [
       "22712"
      ]
     },
     "execution_count": 47,
     "metadata": {},
     "output_type": "execute_result"
    }
   ],
   "source": [
    "# How many genes are shared between untreated and dmso treatments?\n",
    "len(list(set(unique_g_dmso_below17).intersection(set(unique_g_untrt_below17))))"
   ]
  },
  {
   "cell_type": "markdown",
   "metadata": {},
   "source": [
    "What is the median expression of each gene between dmso and untreated?"
   ]
  },
  {
   "cell_type": "code",
   "execution_count": 13,
   "metadata": {},
   "outputs": [
    {
     "data": {
      "text/html": [
       "<div>\n",
       "<style scoped>\n",
       "    .dataframe tbody tr th:only-of-type {\n",
       "        vertical-align: middle;\n",
       "    }\n",
       "\n",
       "    .dataframe tbody tr th {\n",
       "        vertical-align: top;\n",
       "    }\n",
       "\n",
       "    .dataframe thead th {\n",
       "        text-align: right;\n",
       "    }\n",
       "</style>\n",
       "<table border=\"1\" class=\"dataframe\">\n",
       "  <thead>\n",
       "    <tr style=\"text-align: right;\">\n",
       "      <th></th>\n",
       "      <th>genes</th>\n",
       "      <th>treatment</th>\n",
       "      <th>norm_count</th>\n",
       "      <th>compound_id</th>\n",
       "      <th>dose_uM</th>\n",
       "      <th>tmpt_h</th>\n",
       "      <th>cell_line</th>\n",
       "      <th>replicate</th>\n",
       "    </tr>\n",
       "  </thead>\n",
       "  <tbody>\n",
       "    <tr>\n",
       "      <th>0</th>\n",
       "      <td>DDX11L1</td>\n",
       "      <td>DMSO_0_24_ASPC1</td>\n",
       "      <td>11.785438</td>\n",
       "      <td>DMSO</td>\n",
       "      <td>0</td>\n",
       "      <td>24</td>\n",
       "      <td>ASPC1</td>\n",
       "      <td>0</td>\n",
       "    </tr>\n",
       "    <tr>\n",
       "      <th>1</th>\n",
       "      <td>MIR6859-1</td>\n",
       "      <td>DMSO_0_24_ASPC1</td>\n",
       "      <td>11.777003</td>\n",
       "      <td>DMSO</td>\n",
       "      <td>0</td>\n",
       "      <td>24</td>\n",
       "      <td>ASPC1</td>\n",
       "      <td>0</td>\n",
       "    </tr>\n",
       "    <tr>\n",
       "      <th>2</th>\n",
       "      <td>MIR1302-2</td>\n",
       "      <td>DMSO_0_24_ASPC1</td>\n",
       "      <td>11.794012</td>\n",
       "      <td>DMSO</td>\n",
       "      <td>0</td>\n",
       "      <td>24</td>\n",
       "      <td>ASPC1</td>\n",
       "      <td>0</td>\n",
       "    </tr>\n",
       "    <tr>\n",
       "      <th>3</th>\n",
       "      <td>FAM138A</td>\n",
       "      <td>DMSO_0_24_ASPC1</td>\n",
       "      <td>11.787199</td>\n",
       "      <td>DMSO</td>\n",
       "      <td>0</td>\n",
       "      <td>24</td>\n",
       "      <td>ASPC1</td>\n",
       "      <td>0</td>\n",
       "    </tr>\n",
       "    <tr>\n",
       "      <th>4</th>\n",
       "      <td>OR4F5</td>\n",
       "      <td>DMSO_0_24_ASPC1</td>\n",
       "      <td>11.789625</td>\n",
       "      <td>DMSO</td>\n",
       "      <td>0</td>\n",
       "      <td>24</td>\n",
       "      <td>ASPC1</td>\n",
       "      <td>0</td>\n",
       "    </tr>\n",
       "  </tbody>\n",
       "</table>\n",
       "</div>"
      ],
      "text/plain": [
       "       genes        treatment  norm_count compound_id dose_uM tmpt_h  \\\n",
       "0    DDX11L1  DMSO_0_24_ASPC1   11.785438        DMSO       0     24   \n",
       "1  MIR6859-1  DMSO_0_24_ASPC1   11.777003        DMSO       0     24   \n",
       "2  MIR1302-2  DMSO_0_24_ASPC1   11.794012        DMSO       0     24   \n",
       "3    FAM138A  DMSO_0_24_ASPC1   11.787199        DMSO       0     24   \n",
       "4      OR4F5  DMSO_0_24_ASPC1   11.789625        DMSO       0     24   \n",
       "\n",
       "  cell_line replicate  \n",
       "0     ASPC1         0  \n",
       "1     ASPC1         0  \n",
       "2     ASPC1         0  \n",
       "3     ASPC1         0  \n",
       "4     ASPC1         0  "
      ]
     },
     "execution_count": 13,
     "metadata": {},
     "output_type": "execute_result"
    }
   ],
   "source": [
    "dmso_untrt.head()"
   ]
  },
  {
   "cell_type": "code",
   "execution_count": null,
   "metadata": {
    "collapsed": true
   },
   "outputs": [],
   "source": [
    "dmso_untrt.dose_uM.astype(int)"
   ]
  },
  {
   "cell_type": "code",
   "execution_count": 4,
   "metadata": {},
   "outputs": [
    {
     "data": {
      "text/html": [
       "<div>\n",
       "<style scoped>\n",
       "    .dataframe tbody tr th:only-of-type {\n",
       "        vertical-align: middle;\n",
       "    }\n",
       "\n",
       "    .dataframe tbody tr th {\n",
       "        vertical-align: top;\n",
       "    }\n",
       "\n",
       "    .dataframe thead th {\n",
       "        text-align: right;\n",
       "    }\n",
       "</style>\n",
       "<table border=\"1\" class=\"dataframe\">\n",
       "  <thead>\n",
       "    <tr style=\"text-align: right;\">\n",
       "      <th>compound_id</th>\n",
       "      <th>DMSO</th>\n",
       "      <th>UNTREATED</th>\n",
       "    </tr>\n",
       "    <tr>\n",
       "      <th>genes</th>\n",
       "      <th></th>\n",
       "      <th></th>\n",
       "    </tr>\n",
       "  </thead>\n",
       "  <tbody>\n",
       "    <tr>\n",
       "      <th>A1BG</th>\n",
       "      <td>11.937038</td>\n",
       "      <td>11.939111</td>\n",
       "    </tr>\n",
       "    <tr>\n",
       "      <th>A1BG-AS1</th>\n",
       "      <td>11.912184</td>\n",
       "      <td>11.912596</td>\n",
       "    </tr>\n",
       "    <tr>\n",
       "      <th>A1CF</th>\n",
       "      <td>15.212558</td>\n",
       "      <td>15.489138</td>\n",
       "    </tr>\n",
       "    <tr>\n",
       "      <th>A2M</th>\n",
       "      <td>11.999227</td>\n",
       "      <td>11.997749</td>\n",
       "    </tr>\n",
       "    <tr>\n",
       "      <th>A2M-AS1</th>\n",
       "      <td>11.839354</td>\n",
       "      <td>11.837233</td>\n",
       "    </tr>\n",
       "  </tbody>\n",
       "</table>\n",
       "</div>"
      ],
      "text/plain": [
       "compound_id       DMSO  UNTREATED\n",
       "genes                            \n",
       "A1BG         11.937038  11.939111\n",
       "A1BG-AS1     11.912184  11.912596\n",
       "A1CF         15.212558  15.489138\n",
       "A2M          11.999227  11.997749\n",
       "A2M-AS1      11.839354  11.837233"
      ]
     },
     "execution_count": 4,
     "metadata": {},
     "output_type": "execute_result"
    }
   ],
   "source": [
    "dmso_untrt_median = dmso_untrt.pivot_table(\"norm_count\", index=\"genes\", columns=[\"compound_id\"],\n",
    "                       aggfunc=np.median)\n",
    "dmso_untrt_median.head()"
   ]
  },
  {
   "cell_type": "code",
   "execution_count": 21,
   "metadata": {},
   "outputs": [
    {
     "data": {
      "text/plain": [
       "Index(['DMSO', 'UNTREATED'], dtype='object', name='compound_id')"
      ]
     },
     "execution_count": 21,
     "metadata": {},
     "output_type": "execute_result"
    }
   ],
   "source": [
    "dmso_untrt_median.columns"
   ]
  },
  {
   "cell_type": "code",
   "execution_count": 5,
   "metadata": {},
   "outputs": [
    {
     "data": {
      "text/html": [
       "<div>\n",
       "<style scoped>\n",
       "    .dataframe tbody tr th:only-of-type {\n",
       "        vertical-align: middle;\n",
       "    }\n",
       "\n",
       "    .dataframe tbody tr th {\n",
       "        vertical-align: top;\n",
       "    }\n",
       "\n",
       "    .dataframe thead th {\n",
       "        text-align: right;\n",
       "    }\n",
       "</style>\n",
       "<table border=\"1\" class=\"dataframe\">\n",
       "  <thead>\n",
       "    <tr style=\"text-align: right;\">\n",
       "      <th>compound_id</th>\n",
       "      <th>DMSO</th>\n",
       "      <th>UNTREATED</th>\n",
       "      <th>ratio_dmso_untrt</th>\n",
       "    </tr>\n",
       "    <tr>\n",
       "      <th>genes</th>\n",
       "      <th></th>\n",
       "      <th></th>\n",
       "      <th></th>\n",
       "    </tr>\n",
       "  </thead>\n",
       "  <tbody>\n",
       "    <tr>\n",
       "      <th>A1BG</th>\n",
       "      <td>11.937038</td>\n",
       "      <td>11.939111</td>\n",
       "      <td>1.000</td>\n",
       "    </tr>\n",
       "    <tr>\n",
       "      <th>A1BG-AS1</th>\n",
       "      <td>11.912184</td>\n",
       "      <td>11.912596</td>\n",
       "      <td>1.000</td>\n",
       "    </tr>\n",
       "    <tr>\n",
       "      <th>A1CF</th>\n",
       "      <td>15.212558</td>\n",
       "      <td>15.489138</td>\n",
       "      <td>0.982</td>\n",
       "    </tr>\n",
       "    <tr>\n",
       "      <th>A2M</th>\n",
       "      <td>11.999227</td>\n",
       "      <td>11.997749</td>\n",
       "      <td>1.000</td>\n",
       "    </tr>\n",
       "    <tr>\n",
       "      <th>A2M-AS1</th>\n",
       "      <td>11.839354</td>\n",
       "      <td>11.837233</td>\n",
       "      <td>1.000</td>\n",
       "    </tr>\n",
       "  </tbody>\n",
       "</table>\n",
       "</div>"
      ],
      "text/plain": [
       "compound_id       DMSO  UNTREATED  ratio_dmso_untrt\n",
       "genes                                              \n",
       "A1BG         11.937038  11.939111             1.000\n",
       "A1BG-AS1     11.912184  11.912596             1.000\n",
       "A1CF         15.212558  15.489138             0.982\n",
       "A2M          11.999227  11.997749             1.000\n",
       "A2M-AS1      11.839354  11.837233             1.000"
      ]
     },
     "execution_count": 5,
     "metadata": {},
     "output_type": "execute_result"
    }
   ],
   "source": [
    "dmso_untrt_median['ratio_dmso_untrt'] = round(dmso_untrt_median.eval(\"DMSO / UNTREATED\"), 3)\n",
    "dmso_untrt_median.head()"
   ]
  },
  {
   "cell_type": "code",
   "execution_count": 6,
   "metadata": {},
   "outputs": [
    {
     "data": {
      "text/html": [
       "<div>\n",
       "<style scoped>\n",
       "    .dataframe tbody tr th:only-of-type {\n",
       "        vertical-align: middle;\n",
       "    }\n",
       "\n",
       "    .dataframe tbody tr th {\n",
       "        vertical-align: top;\n",
       "    }\n",
       "\n",
       "    .dataframe thead th {\n",
       "        text-align: right;\n",
       "    }\n",
       "</style>\n",
       "<table border=\"1\" class=\"dataframe\">\n",
       "  <thead>\n",
       "    <tr style=\"text-align: right;\">\n",
       "      <th>compound_id</th>\n",
       "      <th>genes</th>\n",
       "      <th>DMSO</th>\n",
       "      <th>UNTREATED</th>\n",
       "      <th>ratio_dmso_untrt</th>\n",
       "    </tr>\n",
       "  </thead>\n",
       "  <tbody>\n",
       "    <tr>\n",
       "      <th>0</th>\n",
       "      <td>A1BG</td>\n",
       "      <td>11.937038</td>\n",
       "      <td>11.939111</td>\n",
       "      <td>1.000</td>\n",
       "    </tr>\n",
       "    <tr>\n",
       "      <th>1</th>\n",
       "      <td>A1BG-AS1</td>\n",
       "      <td>11.912184</td>\n",
       "      <td>11.912596</td>\n",
       "      <td>1.000</td>\n",
       "    </tr>\n",
       "    <tr>\n",
       "      <th>2</th>\n",
       "      <td>A1CF</td>\n",
       "      <td>15.212558</td>\n",
       "      <td>15.489138</td>\n",
       "      <td>0.982</td>\n",
       "    </tr>\n",
       "    <tr>\n",
       "      <th>3</th>\n",
       "      <td>A2M</td>\n",
       "      <td>11.999227</td>\n",
       "      <td>11.997749</td>\n",
       "      <td>1.000</td>\n",
       "    </tr>\n",
       "    <tr>\n",
       "      <th>4</th>\n",
       "      <td>A2M-AS1</td>\n",
       "      <td>11.839354</td>\n",
       "      <td>11.837233</td>\n",
       "      <td>1.000</td>\n",
       "    </tr>\n",
       "  </tbody>\n",
       "</table>\n",
       "</div>"
      ],
      "text/plain": [
       "compound_id     genes       DMSO  UNTREATED  ratio_dmso_untrt\n",
       "0                A1BG  11.937038  11.939111             1.000\n",
       "1            A1BG-AS1  11.912184  11.912596             1.000\n",
       "2                A1CF  15.212558  15.489138             0.982\n",
       "3                 A2M  11.999227  11.997749             1.000\n",
       "4             A2M-AS1  11.839354  11.837233             1.000"
      ]
     },
     "execution_count": 6,
     "metadata": {},
     "output_type": "execute_result"
    }
   ],
   "source": [
    "dmso_untrt_median.reset_index(inplace=True)\n",
    "dmso_untrt_median.head()"
   ]
  },
  {
   "cell_type": "code",
   "execution_count": 31,
   "metadata": {},
   "outputs": [
    {
     "data": {
      "text/plain": [
       "Index(['genes', 'DMSO', 'UNTREATED', 'ratio'], dtype='object', name='compound_id')"
      ]
     },
     "execution_count": 31,
     "metadata": {},
     "output_type": "execute_result"
    }
   ],
   "source": [
    "dmso_untrt_median.columns"
   ]
  },
  {
   "cell_type": "code",
   "execution_count": 32,
   "metadata": {},
   "outputs": [
    {
     "data": {
      "text/plain": [
       "23339"
      ]
     },
     "execution_count": 32,
     "metadata": {},
     "output_type": "execute_result"
    }
   ],
   "source": [
    "dmso_untrt_median.genes.nunique()"
   ]
  },
  {
   "cell_type": "code",
   "execution_count": null,
   "metadata": {},
   "outputs": [],
   "source": [
    "# plt.figure(figsize=(20,10));\n",
    "# sns.barplot(x=\"genes\", y=\"ratio\", data=dmso_untrt_median);\n",
    "# plt.title(\"Ratio DMSO/UNTREATED across all genes\");\n",
    "# plt.xticks(rotation=90);"
   ]
  },
  {
   "cell_type": "code",
   "execution_count": 13,
   "metadata": {},
   "outputs": [
    {
     "data": {
      "image/png": "[encoded data removed]",
      "text/plain": [
       "<Figure size 432x288 with 1 Axes>"
      ]
     },
     "metadata": {},
     "output_type": "display_data"
    }
   ],
   "source": [
    "sns.distplot(dmso_untrt_median.ratio_dmso_untrt, kde=False);\n",
    "plt.title(\"Distribution ratio dmso / untreated\");"
   ]
  },
  {
   "cell_type": "markdown",
   "metadata": {},
   "source": [
    "There is not much difference in the genes expressed under untreatment\n",
    "of with DMSO"
   ]
  },
  {
   "cell_type": "code",
   "execution_count": null,
   "metadata": {
    "collapsed": true
   },
   "outputs": [],
   "source": [
    "WE HAVE STOPPED HERE!!"
   ]
  },
  {
   "cell_type": "markdown",
   "metadata": {},
   "source": [
    "- What is the variance of this distribution?\n",
    "- What are the characteristics of the genes which are more than 2SD away from the mean?"
   ]
  },
  {
   "cell_type": "code",
   "execution_count": null,
   "metadata": {
    "collapsed": true
   },
   "outputs": [],
   "source": []
  },
  {
   "cell_type": "code",
   "execution_count": null,
   "metadata": {
    "collapsed": true
   },
   "outputs": [],
   "source": []
  },
  {
   "cell_type": "code",
   "execution_count": null,
   "metadata": {
    "collapsed": true
   },
   "outputs": [],
   "source": []
  },
  {
   "cell_type": "code",
   "execution_count": null,
   "metadata": {
    "collapsed": true
   },
   "outputs": [],
   "source": []
  },
  {
   "cell_type": "code",
   "execution_count": null,
   "metadata": {
    "collapsed": true
   },
   "outputs": [],
   "source": []
  },
  {
   "cell_type": "code",
   "execution_count": null,
   "metadata": {
    "collapsed": true
   },
   "outputs": [],
   "source": []
  },
  {
   "cell_type": "code",
   "execution_count": null,
   "metadata": {
    "collapsed": true
   },
   "outputs": [],
   "source": []
  },
  {
   "cell_type": "code",
   "execution_count": null,
   "metadata": {
    "collapsed": true
   },
   "outputs": [],
   "source": []
  },
  {
   "cell_type": "code",
   "execution_count": 22,
   "metadata": {},
   "outputs": [
    {
     "data": {
      "text/plain": [
       "genes\n",
       "A1BG        11.937038\n",
       "A1BG-AS1    11.912184\n",
       "A1CF        15.212558\n",
       "A2M         11.999227\n",
       "A2M-AS1     11.839354\n",
       "              ...    \n",
       "ZYG11A      11.914963\n",
       "ZYG11B      14.824306\n",
       "ZYX         17.406168\n",
       "ZZEF1       13.574628\n",
       "ZZZ3        14.006135\n",
       "Name: DMSO, Length: 23339, dtype: float64"
      ]
     },
     "execution_count": 22,
     "metadata": {},
     "output_type": "execute_result"
    }
   ],
   "source": []
  },
  {
   "cell_type": "code",
   "execution_count": null,
   "metadata": {
    "collapsed": true
   },
   "outputs": [],
   "source": []
  },
  {
   "cell_type": "code",
   "execution_count": null,
   "metadata": {
    "collapsed": true
   },
   "outputs": [],
   "source": []
  },
  {
   "cell_type": "code",
   "execution_count": null,
   "metadata": {
    "collapsed": true
   },
   "outputs": [],
   "source": []
  },
  {
   "cell_type": "code",
   "execution_count": null,
   "metadata": {
    "collapsed": true
   },
   "outputs": [],
   "source": []
  },
  {
   "cell_type": "code",
   "execution_count": null,
   "metadata": {
    "collapsed": true
   },
   "outputs": [],
   "source": []
  },
  {
   "cell_type": "code",
   "execution_count": null,
   "metadata": {
    "collapsed": true
   },
   "outputs": [],
   "source": []
  },
  {
   "cell_type": "code",
   "execution_count": null,
   "metadata": {
    "collapsed": true
   },
   "outputs": [],
   "source": []
  },
  {
   "cell_type": "code",
   "execution_count": 31,
   "metadata": {},
   "outputs": [
    {
     "data": {
      "text/plain": [
       "23339"
      ]
     },
     "execution_count": 31,
     "metadata": {},
     "output_type": "execute_result"
    }
   ],
   "source": []
  },
  {
   "cell_type": "code",
   "execution_count": null,
   "metadata": {
    "collapsed": true
   },
   "outputs": [],
   "source": []
  },
  {
   "cell_type": "code",
   "execution_count": null,
   "metadata": {
    "collapsed": true
   },
   "outputs": [],
   "source": []
  },
  {
   "cell_type": "code",
   "execution_count": null,
   "metadata": {
    "collapsed": true
   },
   "outputs": [],
   "source": []
  },
  {
   "cell_type": "code",
   "execution_count": null,
   "metadata": {
    "collapsed": true
   },
   "outputs": [],
   "source": []
  },
  {
   "cell_type": "code",
   "execution_count": null,
   "metadata": {
    "collapsed": true
   },
   "outputs": [],
   "source": []
  },
  {
   "cell_type": "code",
   "execution_count": null,
   "metadata": {
    "collapsed": true
   },
   "outputs": [],
   "source": []
  },
  {
   "cell_type": "code",
   "execution_count": null,
   "metadata": {
    "collapsed": true
   },
   "outputs": [],
   "source": []
  },
  {
   "cell_type": "code",
   "execution_count": null,
   "metadata": {
    "collapsed": true
   },
   "outputs": [],
   "source": []
  },
  {
   "cell_type": "code",
   "execution_count": null,
   "metadata": {
    "collapsed": true
   },
   "outputs": [],
   "source": []
  },
  {
   "cell_type": "code",
   "execution_count": null,
   "metadata": {
    "collapsed": true
   },
   "outputs": [],
   "source": []
  },
  {
   "cell_type": "code",
   "execution_count": null,
   "metadata": {
    "collapsed": true
   },
   "outputs": [],
   "source": []
  },
  {
   "cell_type": "code",
   "execution_count": null,
   "metadata": {
    "collapsed": true
   },
   "outputs": [],
   "source": []
  },
  {
   "cell_type": "code",
   "execution_count": null,
   "metadata": {
    "collapsed": true
   },
   "outputs": [],
   "source": []
  },
  {
   "cell_type": "code",
   "execution_count": null,
   "metadata": {
    "collapsed": true
   },
   "outputs": [],
   "source": []
  },
  {
   "cell_type": "code",
   "execution_count": null,
   "metadata": {
    "collapsed": true
   },
   "outputs": [],
   "source": []
  },
  {
   "cell_type": "code",
   "execution_count": null,
   "metadata": {
    "collapsed": true
   },
   "outputs": [],
   "source": []
  },
  {
   "cell_type": "code",
   "execution_count": null,
   "metadata": {
    "collapsed": true
   },
   "outputs": [],
   "source": []
  },
  {
   "cell_type": "code",
   "execution_count": null,
   "metadata": {
    "collapsed": true
   },
   "outputs": [],
   "source": []
  },
  {
   "cell_type": "code",
   "execution_count": null,
   "metadata": {
    "collapsed": true
   },
   "outputs": [],
   "source": []
  },
  {
   "cell_type": "code",
   "execution_count": null,
   "metadata": {
    "collapsed": true
   },
   "outputs": [],
   "source": []
  },
  {
   "cell_type": "code",
   "execution_count": null,
   "metadata": {
    "collapsed": true
   },
   "outputs": [],
   "source": []
  },
  {
   "cell_type": "code",
   "execution_count": null,
   "metadata": {
    "collapsed": true
   },
   "outputs": [],
   "source": []
  },
  {
   "cell_type": "code",
   "execution_count": null,
   "metadata": {
    "collapsed": true
   },
   "outputs": [],
   "source": []
  },
  {
   "cell_type": "code",
   "execution_count": null,
   "metadata": {
    "collapsed": true
   },
   "outputs": [],
   "source": []
  },
  {
   "cell_type": "code",
   "execution_count": null,
   "metadata": {
    "collapsed": true
   },
   "outputs": [],
   "source": []
  },
  {
   "cell_type": "code",
   "execution_count": null,
   "metadata": {
    "collapsed": true
   },
   "outputs": [],
   "source": []
  },
  {
   "cell_type": "code",
   "execution_count": null,
   "metadata": {
    "collapsed": true
   },
   "outputs": [],
   "source": []
  },
  {
   "cell_type": "code",
   "execution_count": null,
   "metadata": {
    "collapsed": true
   },
   "outputs": [],
   "source": []
  },
  {
   "cell_type": "code",
   "execution_count": null,
   "metadata": {
    "collapsed": true
   },
   "outputs": [],
   "source": []
  },
  {
   "cell_type": "code",
   "execution_count": null,
   "metadata": {
    "collapsed": true
   },
   "outputs": [],
   "source": []
  },
  {
   "cell_type": "code",
   "execution_count": null,
   "metadata": {
    "collapsed": true
   },
   "outputs": [],
   "source": []
  },
  {
   "cell_type": "code",
   "execution_count": null,
   "metadata": {
    "collapsed": true
   },
   "outputs": [],
   "source": []
  },
  {
   "cell_type": "code",
   "execution_count": null,
   "metadata": {
    "collapsed": true
   },
   "outputs": [],
   "source": []
  },
  {
   "cell_type": "code",
   "execution_count": null,
   "metadata": {
    "collapsed": true
   },
   "outputs": [],
   "source": []
  },
  {
   "cell_type": "code",
   "execution_count": null,
   "metadata": {
    "collapsed": true
   },
   "outputs": [],
   "source": []
  },
  {
   "cell_type": "code",
   "execution_count": null,
   "metadata": {
    "collapsed": true
   },
   "outputs": [],
   "source": []
  },
  {
   "cell_type": "code",
   "execution_count": null,
   "metadata": {
    "collapsed": true
   },
   "outputs": [],
   "source": []
  },
  {
   "cell_type": "code",
   "execution_count": null,
   "metadata": {
    "collapsed": true
   },
   "outputs": [],
   "source": []
  },
  {
   "cell_type": "code",
   "execution_count": null,
   "metadata": {
    "collapsed": true
   },
   "outputs": [],
   "source": []
  },
  {
   "cell_type": "code",
   "execution_count": null,
   "metadata": {
    "collapsed": true
   },
   "outputs": [],
   "source": []
  }
 ],
 "metadata": {
  "kernelspec": {
   "display_name": "Python 3",
   "language": "python",
   "name": "python3"
  },
  "language_info": {
   "codemirror_mode": {
    "name": "ipython",
    "version": 3
   },
   "file_extension": ".py",
   "mimetype": "text/x-python",
   "name": "python",
   "nbconvert_exporter": "python",
   "pygments_lexer": "ipython3",
   "version": "3.6.8"
  }
 },
 "nbformat": 4,
 "nbformat_minor": 2
}
